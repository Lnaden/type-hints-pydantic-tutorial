{
 "cells": [
  {
   "cell_type": "markdown",
   "id": "a137fcde",
   "metadata": {},
   "source": [
    "Manual Data Validation\n",
    "==================\n",
    "\n",
    "```{important} Starting File: CHAPTER_2_WAFFLES\n",
    "This chapter will start from the CHAPTER_2_WAFFLES and end on the CHAPTER_3_WAFFLES.\n",
    "```\n",
    "\n",
    "We so far have looked at type hints in Python as augments to arguments, `dataclass` decorators to reduce code and automatically assign variables to attributes of the same name, and how to make our inputs more stable. Everything we've done up to now has been making our code easier to setup, read, and work around. However, we have not done anything to validate the inputs. \n",
    "\n",
    "No mater your field of work, validation of data is going to be something that happens. There is no getting around it, especially in the scientific field. It may be offloaded, automated, or even trvially simple, but it will happen; so we may as well get better at it.\n",
    "\n",
    "```{admonition} Compatibility with Python 3.8 and below\n",
    ":class: note\n",
    "If you have Python 3.8 or below, you will need to import container type objects such as `List`, `Tuple`, `Dict`, etc. from the `typing` library instead of their native types of `list`, `tuple`, `dict`, etc. This chapter will assume Python 3.9 or greater, however, both approaches will work in >=Python 3.9 and have 1:1 replacements of the same name.\n",
    "```\n",
    "\n",
    "## Dataclass `__post_init__` method\n",
    "\n",
    "Let's take a look at our code as we left it from last chapter."
   ]
  },
  {
   "cell_type": "code",
   "execution_count": 2,
   "id": "83a5857e",
   "metadata": {},
   "outputs": [],
   "source": [
    "from dataclasses import dataclass\n",
    "from typing import Union\n",
    "\n",
    "@dataclass\n",
    "class Molecule:\n",
    "    name: str\n",
    "    charge: Union[float, int]\n",
    "    symbols: list[str]\n",
    "    coordinates: list[list[float]]\n",
    "        \n",
    "    @property\n",
    "    def num_atoms(self):\n",
    "        return len(self.symbols)\n",
    "        \n",
    "    def __str__(self):\n",
    "        return f\"name: {self.name}\\ncharge: {self.charge}\\nsymbols: {self.symbols}\""
   ]
  },
  {
   "cell_type": "code",
   "execution_count": 3,
   "id": "7009476a",
   "metadata": {},
   "outputs": [],
   "source": [
    "mol_data = {\n",
    "    \"coordinates\": [[0, 0, 0]], \n",
    "    \"symbols\": [\"H\", \"H\", \"O\"], \n",
    "    \"charge\": 0.0, \n",
    "    \"name\": \"water\"\n",
    "}"
   ]
  },
  {
   "cell_type": "markdown",
   "id": "cb85f385",
   "metadata": {},
   "source": [
    "We've seen several examples so far of feeeding in non-type appropriate code and not having errors. Now we're going to do actual validation on our `dataclass`. Although there are third party libraries to do some of this, you the developer still have to have an understand the scientific use case for what is considered valid; even beyond the type checking itself.\n",
    "\n",
    "We first have to know how to access the data on input. The `dataclass` decorator takes over the normal `__init__` process where someone may expect to write our validation code, or call the validation function(s). `dataclass` also provides a secondary function called `__post_init__` which is called automatically after the `__init__`, if it is defined. This function is basically free space for the developer to do whatever they want with the `dataclass` like there was an `__init__`, just after instance variables are assigned."
   ]
  },
  {
   "cell_type": "code",
   "execution_count": 4,
   "id": "dc1a8716",
   "metadata": {},
   "outputs": [],
   "source": [
    "@dataclass\n",
    "class Molecule:\n",
    "    name: str\n",
    "    charge: Union[float, int]\n",
    "    symbols: list[str]\n",
    "    coordinates: list[list[float]]\n",
    "    \n",
    "    def __post_init__(self):\n",
    "        # Do whatever you want here, all instance attributes will be available.\n",
    "        print(f\"{[getattr(self, thing) for thing in mol_data.keys()]}\")\n",
    "        print(\"Post Init Ran\")\n",
    "        \n",
    "    @property\n",
    "    def num_atoms(self):\n",
    "        return len(self.symbols)\n",
    "        \n",
    "    def __str__(self):\n",
    "        return f\"name: {self.name}\\ncharge: {self.charge}\\nsymbols: {self.symbols}\""
   ]
  },
  {
   "cell_type": "code",
   "execution_count": 5,
   "id": "11ca26ae",
   "metadata": {},
   "outputs": [
    {
     "name": "stdout",
     "output_type": "stream",
     "text": [
      "[[[0, 0, 0]], ['H', 'H', 'O'], 0.0, 'water']\n",
      "Post Init Ran\n"
     ]
    }
   ],
   "source": [
    "water = Molecule(**mol_data)"
   ]
  },
  {
   "cell_type": "markdown",
   "id": "ae618355",
   "metadata": {},
   "source": [
    "What you can see in the above code is that `__post_init__` did run, and does have access to all of the attributes we're working with in this problem. If we wanted to recreate the `__init__` like settings we had from the BASE_FILE_WAFFLES, we could set `self.num_atoms = len(self.symbols)` in the `__post_init_` as well, but we'll leave it as a `property`. Let's actually delve into some validation, starting with simple type validation.\n",
    "\n",
    "## Manually validating types\n",
    "\n",
    "Although there are external libraries to do type and value validation of data, we're going to go through the manual process in this chapter to show all the nuances that have to be thought of. Even the most sophisticated type-checking libraries still need the programmer to tell them what are the correct types, and are the values of those incoming data correct for the application. \n",
    "\n",
    "Validation rules themselves do not have to be complicated. Setting aside the scientifc understanding, lets start by simply validating the types. Let's start with the `name` that we want to ensure is a string. We'll handle validation in `__post_init__` as thats where we can intercept the initilization process in a `dataclass`.\n",
    "\n",
    "<div class=\"question\">\n",
    "    <p class=\"question-title\">Heads Up Question</p>\n",
    "    <p> Although we said \"simply validating the types,\" there are some types in our current <code>Molecule</code> which might be rather complicated to validate. Can you think of what they might be and how you might validate them?</p>\n",
    "</div>"
   ]
  },
  {
   "cell_type": "code",
   "execution_count": 6,
   "id": "11118ff6",
   "metadata": {},
   "outputs": [],
   "source": [
    "@dataclass\n",
    "class Molecule:\n",
    "    name: str\n",
    "    charge: Union[float, int]\n",
    "    symbols: list[str]\n",
    "    coordinates: list[list[float]]\n",
    "    \n",
    "    def __post_init__(self):\n",
    "        # We'll validate the inputs here.\n",
    "        if not isinstance(self.name, str):\n",
    "            raise ValueError(f\"'name' must be a str, was {self.name}\")\n",
    "        \n",
    "    @property\n",
    "    def num_atoms(self):\n",
    "        return len(self.symbols)\n",
    "        \n",
    "    def __str__(self):\n",
    "        return f\"name: {self.name}\\ncharge: {self.charge}\\nsymbols: {self.symbols}\""
   ]
  },
  {
   "cell_type": "markdown",
   "id": "33393783",
   "metadata": {},
   "source": [
    "Let's also create a set of bad data for use to feed to the constructor to test our validation. We'll make a few bad entries here and combine dictionaries ont he fly as needed."
   ]
  },
  {
   "cell_type": "code",
   "execution_count": 28,
   "id": "336bda33",
   "metadata": {},
   "outputs": [],
   "source": [
    "bad_name = {\"name\": 789}  # Name is not str\n",
    "bad_charge = {\"charge\": [1, 0.0]}  # Charge is not int or float\n",
    "noniter_symbols = {\"symbols\": 1234567890}  # Symbols is an int\n",
    "nonlist_symbols = {\"symbols\": '[\"H\", \"H\", \"O\"]'}  # Symbols is a string (notably is a string-ified list)\n",
    "tuple_symbols = {\"symbols\": (\"H\", \"H\", \"O\")}  # Symbols as a tuple?\n",
    "bad_coords = {\"coordinates\": [\"1\", \"2\", \"3\"]}  # Coords is a single list of string\n",
    "bad_symbols_and_cords = {\"symbols\": [\"H\", \"H\", \"O\"],\n",
    "                         \"coordinates\": [[1, 1, 1], [2.0, 2.0, 2.0]]\n",
    "                        }  # Coordinates top-level list is not the same length as symbols"
   ]
  },
  {
   "cell_type": "code",
   "execution_count": 10,
   "id": "92d676db",
   "metadata": {},
   "outputs": [],
   "source": [
    "# This will work \n",
    "water = Molecule(**mol_data)"
   ]
  },
  {
   "cell_type": "code",
   "execution_count": 13,
   "id": "503b71b6",
   "metadata": {},
   "outputs": [
    {
     "ename": "ValueError",
     "evalue": "`name` must be a str, was 789",
     "output_type": "error",
     "traceback": [
      "\u001b[0;31m---------------------------------------------------------------------------\u001b[0m",
      "\u001b[0;31mValueError\u001b[0m                                Traceback (most recent call last)",
      "Input \u001b[0;32mIn [13]\u001b[0m, in \u001b[0;36m<cell line: 3>\u001b[0;34m()\u001b[0m\n\u001b[1;32m      1\u001b[0m \u001b[38;5;66;03m# This will not\u001b[39;00m\n\u001b[1;32m      2\u001b[0m mangle_name \u001b[38;5;241m=\u001b[39m {\u001b[38;5;241m*\u001b[39m\u001b[38;5;241m*\u001b[39mmol_data, \u001b[38;5;241m*\u001b[39m\u001b[38;5;241m*\u001b[39mbad_name}  \u001b[38;5;66;03m# Inject bad name, could be done in 1 line, easier to read this way\u001b[39;00m\n\u001b[0;32m----> 3\u001b[0m water \u001b[38;5;241m=\u001b[39m \u001b[43mMolecule\u001b[49m\u001b[43m(\u001b[49m\u001b[38;5;241;43m*\u001b[39;49m\u001b[38;5;241;43m*\u001b[39;49m\u001b[43mmangle_name\u001b[49m\u001b[43m)\u001b[49m\n",
      "File \u001b[0;32m<string>:7\u001b[0m, in \u001b[0;36m__init__\u001b[0;34m(self, name, charge, symbols, coordinates)\u001b[0m\n",
      "Input \u001b[0;32mIn [6]\u001b[0m, in \u001b[0;36mMolecule.__post_init__\u001b[0;34m(self)\u001b[0m\n\u001b[1;32m      8\u001b[0m \u001b[38;5;28;01mdef\u001b[39;00m \u001b[38;5;21m__post_init__\u001b[39m(\u001b[38;5;28mself\u001b[39m):\n\u001b[1;32m      9\u001b[0m     \u001b[38;5;66;03m# We'll validate the inputs here.\u001b[39;00m\n\u001b[1;32m     10\u001b[0m     \u001b[38;5;28;01mif\u001b[39;00m \u001b[38;5;129;01mnot\u001b[39;00m \u001b[38;5;28misinstance\u001b[39m(\u001b[38;5;28mself\u001b[39m\u001b[38;5;241m.\u001b[39mname, \u001b[38;5;28mstr\u001b[39m):\n\u001b[0;32m---> 11\u001b[0m         \u001b[38;5;28;01mraise\u001b[39;00m \u001b[38;5;167;01mValueError\u001b[39;00m(\u001b[38;5;124mf\u001b[39m\u001b[38;5;124m\"\u001b[39m\u001b[38;5;124m`name` must be a str, was \u001b[39m\u001b[38;5;132;01m{\u001b[39;00m\u001b[38;5;28mself\u001b[39m\u001b[38;5;241m.\u001b[39mname\u001b[38;5;132;01m}\u001b[39;00m\u001b[38;5;124m\"\u001b[39m)\n",
      "\u001b[0;31mValueError\u001b[0m: `name` must be a str, was 789"
     ]
    }
   ],
   "source": [
    "# This will not\n",
    "mangle_name = {**mol_data, **bad_name}  # Inject bad name, could be done in 1 line, easier to read this way\n",
    "water = Molecule(**mangle_name)"
   ]
  },
  {
   "cell_type": "markdown",
   "id": "65565e37",
   "metadata": {},
   "source": [
    "Congradulations, we have our first piece of validaiton! Now lets move on to the `charge` entry. This one is slightly more complicated because `charge` is of type `Union[float, int]`. See if you can do this one yourself first."
   ]
  },
  {
   "cell_type": "markdown",
   "id": "8545ef90",
   "metadata": {},
   "source": [
    "<div class=\"exercise\">\n",
    "<p class=\"exercise-title\">Writting your own validator: validating Charge</p>\n",
    "    <p>Write a validator statement for the <code>charge</code> which should be of type <code>Union[float, int]</code> to put in the <code>__post_init__</code> function.</p>\n",
    "    <p>We're not looking for code efficency here (minmal loops, fewest lines, minimal calls, etc.), so do what seems simplest here for understanding.</p>\n",
    "\n",
    "```{admonition} Hint\n",
    ":class: dropdown\n",
    "    `Union` means \"either\" in this context.\n",
    "```        \n",
    "```{admonition} Solution\n",
    ":class: dropdown\n",
    "<p>This is one possible solution for validating this type</p>\n",
    "    \n",
    "```python\n",
    "if not (isinstance(self.charge, float) or isinstance(self.charge, int)):\n",
    "    raise ValueError(f\"'charge' must be a float or int, was {self.charge}\")\n",
    "```\n",
    "    \n",
    "</div>"
   ]
  },
  {
   "cell_type": "markdown",
   "id": "44a8f62c",
   "metadata": {},
   "source": [
    "### More difficult validation entries\n",
    "\n",
    "Let's take a look at our two validated entries so far. We're going to use our example from the excersie in the last section as our answer, yours might look different and that's fine."
   ]
  },
  {
   "cell_type": "code",
   "execution_count": 14,
   "id": "6f13ae52",
   "metadata": {},
   "outputs": [],
   "source": [
    "@dataclass\n",
    "class Molecule:\n",
    "    name: str\n",
    "    charge: Union[float, int]\n",
    "    symbols: list[str]\n",
    "    coordinates: list[list[float]]\n",
    "    \n",
    "    def __post_init__(self):\n",
    "        # We'll validate the inputs here.\n",
    "        if not isinstance(self.name, str):\n",
    "            raise ValueError(f\"'name' must be a str, was {self.name}\")\n",
    "        if not (isinstance(self.charge, float) or isinstance(self.charge, int)):\n",
    "            raise ValueError(f\"'charge' must be a float or int, was {self.charge}\")\n",
    "        \n",
    "    @property\n",
    "    def num_atoms(self):\n",
    "        return len(self.symbols)\n",
    "        \n",
    "    def __str__(self):\n",
    "        return f\"name: {self.name}\\ncharge: {self.charge}\\nsymbols: {self.symbols}\""
   ]
  },
  {
   "cell_type": "markdown",
   "id": "c392a3c8",
   "metadata": {},
   "source": [
    "Next we are going work on the `symbols`. Because this is a container-like type, we have to validate not only the outtermost type of `list`, but also the internal items of `str`. \n",
    "\n",
    "Let's start with the Pythonic concept of \"it is better to ask forgiveness than permission\" and just try to do a loop on the `self.symbols`. If it cannot be looped over, we'll catch that and throw a meaninful error."
   ]
  },
  {
   "cell_type": "code",
   "execution_count": 25,
   "id": "97bfd144",
   "metadata": {},
   "outputs": [],
   "source": [
    "@dataclass\n",
    "class Molecule:\n",
    "    name: str\n",
    "    charge: Union[float, int]\n",
    "    symbols: list[str]\n",
    "    coordinates: list[list[float]]\n",
    "    \n",
    "    def __post_init__(self):\n",
    "        # We'll validate the inputs here.\n",
    "        if not isinstance(self.name, str):\n",
    "            raise ValueError(f\"'name' must be a str, was {self.name}\")\n",
    "            \n",
    "        if not (isinstance(self.charge, float) or isinstance(self.charge, int)):\n",
    "            raise ValueError(f\"'charge' must be a float or int, was {self.charge}\")\n",
    "            \n",
    "        try:\n",
    "            for content in self.symbols:  # Loop over elements\n",
    "                if not isinstance(content, str):  # Check content\n",
    "                    raise ValueError(content, type(content))\n",
    "        except TypeError as exec:  # Trap not iterable item\n",
    "            # This will throw if you can't iterate over self.symbols\n",
    "            raise ValueError(f\"'symbols' must be a list, was {type(self.symbols)}\") from exec\n",
    "        except ValueError as exec:  # Trap the content error\n",
    "            raise ValueError(f\"Each element of 'symbols' must be a string, was {exec.args[0]} of type {exec.args[1]}\") from exec\n",
    "        \n",
    "    @property\n",
    "    def num_atoms(self):\n",
    "        return len(self.symbols)\n",
    "        \n",
    "    def __str__(self):\n",
    "        return f\"name: {self.name}\\ncharge: {self.charge}\\nsymbols: {self.symbols}\""
   ]
  },
  {
   "cell_type": "markdown",
   "id": "b3fde0f4",
   "metadata": {},
   "source": [
    "<div class=\"question\">\n",
    "    <p class=\"question-title\">Heads Up Question</p>\n",
    "    <p> We've intentionally wrote the <code>symbols</code> validator so there are a couple edge cases that will pass validation, but still not be the correct type hint. Can you think of such an edge case?</p>\n",
    "\n",
    "```{admonition} Hint for Case A\n",
    ":class: dropdown\n",
    "<ul>\n",
    "    <li>There is a single primitive (non container-like) Python type which will pass the <code>symbols</code> validator</li>\n",
    "    <li>Take a look through the bad entries dictionaries above, the example is in there.</li>\n",
    "</ul>\n",
    "```\n",
    "\n",
    "```{admonition} Hint for Case B\n",
    ":class: dropdown\n",
    "<ul>\n",
    "    <li>There is a single container-like Python type which will pass the <code>symbols</code> validator</li>\n",
    "    <li>This type may not cause any issues at all if its missed since <code>list</code> and this type work roughly the same for this application as coded.</li>\n",
    "</ul>\n",
    "```  \n",
    "\n",
    "</div>"
   ]
  },
  {
   "cell_type": "code",
   "execution_count": 21,
   "id": "0b3acffd",
   "metadata": {},
   "outputs": [],
   "source": [
    "# This will work \n",
    "water = Molecule(**mol_data)"
   ]
  },
  {
   "cell_type": "code",
   "execution_count": 22,
   "id": "0aed5695",
   "metadata": {},
   "outputs": [
    {
     "ename": "ValueError",
     "evalue": "'symbols' must be a list, was <class 'int'>",
     "output_type": "error",
     "traceback": [
      "\u001b[0;31m---------------------------------------------------------------------------\u001b[0m",
      "\u001b[0;31mTypeError\u001b[0m                                 Traceback (most recent call last)",
      "Input \u001b[0;32mIn [20]\u001b[0m, in \u001b[0;36mMolecule.__post_init__\u001b[0;34m(self)\u001b[0m\n\u001b[1;32m     16\u001b[0m \u001b[38;5;28;01mtry\u001b[39;00m:\n\u001b[0;32m---> 17\u001b[0m     \u001b[38;5;28;01mfor\u001b[39;00m content \u001b[38;5;129;01min\u001b[39;00m \u001b[38;5;28mself\u001b[39m\u001b[38;5;241m.\u001b[39msymbols:  \u001b[38;5;66;03m# Loop over elements\u001b[39;00m\n\u001b[1;32m     18\u001b[0m         \u001b[38;5;28;01mif\u001b[39;00m \u001b[38;5;129;01mnot\u001b[39;00m \u001b[38;5;28misinstance\u001b[39m(content, \u001b[38;5;28mstr\u001b[39m):  \u001b[38;5;66;03m# Check content\u001b[39;00m\n",
      "\u001b[0;31mTypeError\u001b[0m: 'int' object is not iterable",
      "\nThe above exception was the direct cause of the following exception:\n",
      "\u001b[0;31mValueError\u001b[0m                                Traceback (most recent call last)",
      "Input \u001b[0;32mIn [22]\u001b[0m, in \u001b[0;36m<cell line: 3>\u001b[0;34m()\u001b[0m\n\u001b[1;32m      1\u001b[0m \u001b[38;5;66;03m# This will not\u001b[39;00m\n\u001b[1;32m      2\u001b[0m mangle_name \u001b[38;5;241m=\u001b[39m {\u001b[38;5;241m*\u001b[39m\u001b[38;5;241m*\u001b[39mmol_data, \u001b[38;5;241m*\u001b[39m\u001b[38;5;241m*\u001b[39mnoniter_symbols}  \u001b[38;5;66;03m# Inject bad name, could be done in 1 line, easier to read this way\u001b[39;00m\n\u001b[0;32m----> 3\u001b[0m water \u001b[38;5;241m=\u001b[39m \u001b[43mMolecule\u001b[49m\u001b[43m(\u001b[49m\u001b[38;5;241;43m*\u001b[39;49m\u001b[38;5;241;43m*\u001b[39;49m\u001b[43mmangle_name\u001b[49m\u001b[43m)\u001b[49m\n",
      "File \u001b[0;32m<string>:7\u001b[0m, in \u001b[0;36m__init__\u001b[0;34m(self, name, charge, symbols, coordinates)\u001b[0m\n",
      "Input \u001b[0;32mIn [20]\u001b[0m, in \u001b[0;36mMolecule.__post_init__\u001b[0;34m(self)\u001b[0m\n\u001b[1;32m     19\u001b[0m             \u001b[38;5;28;01mraise\u001b[39;00m \u001b[38;5;167;01mValueError\u001b[39;00m(content, \u001b[38;5;28mtype\u001b[39m(content))\n\u001b[1;32m     20\u001b[0m \u001b[38;5;28;01mexcept\u001b[39;00m \u001b[38;5;167;01mTypeError\u001b[39;00m \u001b[38;5;28;01mas\u001b[39;00m exec:  \u001b[38;5;66;03m# Trap not iterable item\u001b[39;00m\n\u001b[1;32m     21\u001b[0m     \u001b[38;5;66;03m# This will throw if you can't iterate over self.symbols\u001b[39;00m\n\u001b[0;32m---> 22\u001b[0m     \u001b[38;5;28;01mraise\u001b[39;00m \u001b[38;5;167;01mValueError\u001b[39;00m(\u001b[38;5;124mf\u001b[39m\u001b[38;5;124m\"\u001b[39m\u001b[38;5;124m'\u001b[39m\u001b[38;5;124msymbols\u001b[39m\u001b[38;5;124m'\u001b[39m\u001b[38;5;124m must be a list, was \u001b[39m\u001b[38;5;132;01m{\u001b[39;00m\u001b[38;5;28mtype\u001b[39m(\u001b[38;5;28mself\u001b[39m\u001b[38;5;241m.\u001b[39msymbols)\u001b[38;5;132;01m}\u001b[39;00m\u001b[38;5;124m\"\u001b[39m) \u001b[38;5;28;01mfrom\u001b[39;00m \u001b[38;5;21;01mexec\u001b[39;00m\n\u001b[1;32m     23\u001b[0m \u001b[38;5;28;01mexcept\u001b[39;00m \u001b[38;5;167;01mValueError\u001b[39;00m \u001b[38;5;28;01mas\u001b[39;00m exec:  \u001b[38;5;66;03m# Trap the content error\u001b[39;00m\n\u001b[1;32m     24\u001b[0m     \u001b[38;5;28;01mraise\u001b[39;00m \u001b[38;5;167;01mValueError\u001b[39;00m(\u001b[38;5;124mf\u001b[39m\u001b[38;5;124m\"\u001b[39m\u001b[38;5;124mEach element of \u001b[39m\u001b[38;5;124m'\u001b[39m\u001b[38;5;124msymbols\u001b[39m\u001b[38;5;124m'\u001b[39m\u001b[38;5;124m must be a string, was \u001b[39m\u001b[38;5;132;01m{\u001b[39;00mexec\u001b[38;5;241m.\u001b[39margs[\u001b[38;5;241m0\u001b[39m]\u001b[38;5;132;01m}\u001b[39;00m\u001b[38;5;124m of type \u001b[39m\u001b[38;5;132;01m{\u001b[39;00mexec\u001b[38;5;241m.\u001b[39margs[\u001b[38;5;241m1\u001b[39m]\u001b[38;5;132;01m}\u001b[39;00m\u001b[38;5;124m\"\u001b[39m) \u001b[38;5;28;01mfrom\u001b[39;00m \u001b[38;5;21;01mexec\u001b[39;00m\n",
      "\u001b[0;31mValueError\u001b[0m: 'symbols' must be a list, was <class 'int'>"
     ]
    }
   ],
   "source": [
    "# This will not\n",
    "mangle_name = {**mol_data, **noniter_symbols}  # Inject bad name, could be done in 1 line, easier to read this way\n",
    "water = Molecule(**mangle_name)"
   ]
  },
  {
   "cell_type": "markdown",
   "id": "3c3de699",
   "metadata": {},
   "source": [
    "Here we have wrapped the error handling through a `try...except` clause and then run a loop through the elements. Previously, we had only used `isinstance`, but there is also nothing wrong with a `try...except` construct so long as the errors are handled gracefully."
   ]
  },
  {
   "cell_type": "markdown",
   "id": "d3ecac39",
   "metadata": {},
   "source": [
    "```{admonition} The <code>raise Exception() from</code> construct\n",
    ":class: note\n",
    "We've used \"[Exception Chaining](https://docs.python.org/3/tutorial/errors.html#exception-chaining)\" to make the intentionally trapped and raised error stack more easy to read. \n",
    "```"
   ]
  },
  {
   "cell_type": "markdown",
   "id": "75599506",
   "metadata": {},
   "source": [
    "We can break down each component part of the validator to see what we have done, starting with the block inside the `try` statement:\n",
    "\n",
    "```python\n",
    "for content in self.symbols:  # Loop over elements\n",
    "    if not isinstance(content, str):  # Check content\n",
    "        raise ValueError(content, type(content))\n",
    "```\n",
    "\n",
    "We expect to be able to iterate over a `list` and throw a `TypeError` if you can't iterate (such as on an `int`). The inside of the loop then does type checking to ensure everything is a string.\n",
    "\n",
    "```python\n",
    "try:\n",
    "    pass\n",
    "except TypeError as exec:\n",
    "    raise ValueError(f\"'symbols' must be a list, was {type(self.symbols)}\") from exec\n",
    "```\n",
    "\n",
    "This exception in the `try...except` construct catchs the case of not being able to iterate during the `for` loop, then handles it gracefully with a cleaner exception stack using the Exception Chaining construct (`raise Exception() from`).\n",
    "\n",
    "```python\n",
    "try:\n",
    "    pass\n",
    "except ValueError as exec:\n",
    "    raise ValueError(f\"Each element of 'symbols' must be a string, was {exec.args[0]} of type {exec.args[1]}\") from exec\n",
    "```\n",
    "\n",
    "The last `except` clause catches the case of the elements of the `symbols` list not being a `str`. We're combining two lesser deployed ideas here to make a more meaningful error message. First is the exception chaining to allow more elegant error messages, second is passing multiple arguments to the initial error (`raise ValueError(content, type(content))`) so that we can write a more informative error message by accsing the initial error's `args` attribute."
   ]
  },
  {
   "cell_type": "markdown",
   "id": "381218da",
   "metadata": {},
   "source": [
    "Let's try to run a different type of data through the `symbols` validator. In theory, this is not the right type, and so it should throw an error too. As the Heads-Up Question above alluded to, it won't (this is Case A)."
   ]
  },
  {
   "cell_type": "code",
   "execution_count": 26,
   "id": "cc81fb1f",
   "metadata": {},
   "outputs": [],
   "source": [
    "mangled_data = {**mol_data, **nonlist_symbols}\n",
    "water = Molecule(**mangled_data)"
   ]
  },
  {
   "cell_type": "markdown",
   "id": "5a0a64c7",
   "metadata": {},
   "source": [
    "The reason this passed validation is because, in Python, the `str` type is iterable, and each element of an iterated `str` is another instance of `str`. The other alluded to edge case is if `symbols` is a `tuple`."
   ]
  },
  {
   "cell_type": "code",
   "execution_count": 29,
   "id": "c0d70262",
   "metadata": {},
   "outputs": [],
   "source": [
    "mangled_data = {**mol_data, **tuple_symbols}\n",
    "water = Molecule(**mangled_data)"
   ]
  },
  {
   "cell_type": "markdown",
   "id": "fa368c8a",
   "metadata": {},
   "source": [
    "This also works fine, and is Case B from the Heads-Up Question. Depending on how `symbols` is used in code, having it be a `tuple` might be fine for your purposes. If so, consider expanding the allowed types (or coercing the incoming data to a `list`).\n",
    "\n",
    "Because of all the edge cases, this is a case where being precise and \"asking permission\" can be more helpful than what we originally wrote. Let's re-write our validator to handle `tuple`s permissivley, and to catch those pesky `string`s."
   ]
  },
  {
   "cell_type": "code",
   "execution_count": 30,
   "id": "3417d3f1",
   "metadata": {},
   "outputs": [],
   "source": [
    "@dataclass\n",
    "class Molecule:\n",
    "    name: str\n",
    "    charge: Union[float, int]\n",
    "    symbols: Union[list[str], tuple[str, ...]]\n",
    "    coordinates: list[list[float]]\n",
    "    \n",
    "    def __post_init__(self):\n",
    "        # We'll validate the inputs here.\n",
    "        if not isinstance(self.name, str):\n",
    "            raise ValueError(f\"'name' must be a str, was {self.name}\")\n",
    "            \n",
    "        if not (isinstance(self.charge, float) or isinstance(self.charge, int)):\n",
    "            raise ValueError(f\"'charge' must be a float or int, was {self.charge}\")\n",
    "            \n",
    "        try:\n",
    "            if not (isinstance(self.symbols, list) or isinstance(self.symbols, tuple)):\n",
    "                raise TypeError\n",
    "            for content in self.symbols:  # Loop over elements\n",
    "                if not isinstance(content, str):  # Check content\n",
    "                    raise ValueError(content, type(content))\n",
    "        except TypeError as exec:  # Trap not iterable item\n",
    "            # This will throw if you can't iterate over self.symbols\n",
    "            raise ValueError(f\"'symbols' must be a list or tuple of string, was {type(self.symbols)}\") from exec\n",
    "        except ValueError as exec:  # Trap the content error\n",
    "            raise ValueError(f\"Each element of 'symbols' must be a string, was {exec.args[0]} of type {exec.args[1]}\") from exec\n",
    "        \n",
    "    @property\n",
    "    def num_atoms(self):\n",
    "        return len(self.symbols)\n",
    "        \n",
    "    def __str__(self):\n",
    "        return f\"name: {self.name}\\ncharge: {self.charge}\\nsymbols: {self.symbols}\""
   ]
  },
  {
   "cell_type": "code",
   "execution_count": 31,
   "id": "61c7486b",
   "metadata": {},
   "outputs": [
    {
     "ename": "ValueError",
     "evalue": "'symbols' must be a list or tuple of string, was <class 'str'>",
     "output_type": "error",
     "traceback": [
      "\u001b[0;31m---------------------------------------------------------------------------\u001b[0m",
      "\u001b[0;31mTypeError\u001b[0m                                 Traceback (most recent call last)",
      "Input \u001b[0;32mIn [30]\u001b[0m, in \u001b[0;36mMolecule.__post_init__\u001b[0;34m(self)\u001b[0m\n\u001b[1;32m     17\u001b[0m \u001b[38;5;28;01mif\u001b[39;00m \u001b[38;5;129;01mnot\u001b[39;00m (\u001b[38;5;28misinstance\u001b[39m(\u001b[38;5;28mself\u001b[39m\u001b[38;5;241m.\u001b[39msymbols, \u001b[38;5;28mlist\u001b[39m) \u001b[38;5;129;01mor\u001b[39;00m \u001b[38;5;28misinstance\u001b[39m(\u001b[38;5;28mself\u001b[39m\u001b[38;5;241m.\u001b[39msymbols, \u001b[38;5;28mtuple\u001b[39m)):\n\u001b[0;32m---> 18\u001b[0m     \u001b[38;5;28;01mraise\u001b[39;00m \u001b[38;5;167;01mTypeError\u001b[39;00m\n\u001b[1;32m     19\u001b[0m \u001b[38;5;28;01mfor\u001b[39;00m content \u001b[38;5;129;01min\u001b[39;00m \u001b[38;5;28mself\u001b[39m\u001b[38;5;241m.\u001b[39msymbols:  \u001b[38;5;66;03m# Loop over elements\u001b[39;00m\n",
      "\u001b[0;31mTypeError\u001b[0m: ",
      "\nThe above exception was the direct cause of the following exception:\n",
      "\u001b[0;31mValueError\u001b[0m                                Traceback (most recent call last)",
      "Input \u001b[0;32mIn [31]\u001b[0m, in \u001b[0;36m<cell line: 2>\u001b[0;34m()\u001b[0m\n\u001b[1;32m      1\u001b[0m mangled_data \u001b[38;5;241m=\u001b[39m {\u001b[38;5;241m*\u001b[39m\u001b[38;5;241m*\u001b[39mmol_data, \u001b[38;5;241m*\u001b[39m\u001b[38;5;241m*\u001b[39mnonlist_symbols}\n\u001b[0;32m----> 2\u001b[0m water \u001b[38;5;241m=\u001b[39m \u001b[43mMolecule\u001b[49m\u001b[43m(\u001b[49m\u001b[38;5;241;43m*\u001b[39;49m\u001b[38;5;241;43m*\u001b[39;49m\u001b[43mmangled_data\u001b[49m\u001b[43m)\u001b[49m\n",
      "File \u001b[0;32m<string>:7\u001b[0m, in \u001b[0;36m__init__\u001b[0;34m(self, name, charge, symbols, coordinates)\u001b[0m\n",
      "Input \u001b[0;32mIn [30]\u001b[0m, in \u001b[0;36mMolecule.__post_init__\u001b[0;34m(self)\u001b[0m\n\u001b[1;32m     21\u001b[0m             \u001b[38;5;28;01mraise\u001b[39;00m \u001b[38;5;167;01mValueError\u001b[39;00m(content, \u001b[38;5;28mtype\u001b[39m(content))\n\u001b[1;32m     22\u001b[0m \u001b[38;5;28;01mexcept\u001b[39;00m \u001b[38;5;167;01mTypeError\u001b[39;00m \u001b[38;5;28;01mas\u001b[39;00m exec:  \u001b[38;5;66;03m# Trap not iterable item\u001b[39;00m\n\u001b[1;32m     23\u001b[0m     \u001b[38;5;66;03m# This will throw if you can't iterate over self.symbols\u001b[39;00m\n\u001b[0;32m---> 24\u001b[0m     \u001b[38;5;28;01mraise\u001b[39;00m \u001b[38;5;167;01mValueError\u001b[39;00m(\u001b[38;5;124mf\u001b[39m\u001b[38;5;124m\"\u001b[39m\u001b[38;5;124m'\u001b[39m\u001b[38;5;124msymbols\u001b[39m\u001b[38;5;124m'\u001b[39m\u001b[38;5;124m must be a list or tuple of string, was \u001b[39m\u001b[38;5;132;01m{\u001b[39;00m\u001b[38;5;28mtype\u001b[39m(\u001b[38;5;28mself\u001b[39m\u001b[38;5;241m.\u001b[39msymbols)\u001b[38;5;132;01m}\u001b[39;00m\u001b[38;5;124m\"\u001b[39m) \u001b[38;5;28;01mfrom\u001b[39;00m \u001b[38;5;21;01mexec\u001b[39;00m\n\u001b[1;32m     25\u001b[0m \u001b[38;5;28;01mexcept\u001b[39;00m \u001b[38;5;167;01mValueError\u001b[39;00m \u001b[38;5;28;01mas\u001b[39;00m exec:  \u001b[38;5;66;03m# Trap the content error\u001b[39;00m\n\u001b[1;32m     26\u001b[0m     \u001b[38;5;28;01mraise\u001b[39;00m \u001b[38;5;167;01mValueError\u001b[39;00m(\u001b[38;5;124mf\u001b[39m\u001b[38;5;124m\"\u001b[39m\u001b[38;5;124mEach element of \u001b[39m\u001b[38;5;124m'\u001b[39m\u001b[38;5;124msymbols\u001b[39m\u001b[38;5;124m'\u001b[39m\u001b[38;5;124m must be a string, was \u001b[39m\u001b[38;5;132;01m{\u001b[39;00mexec\u001b[38;5;241m.\u001b[39margs[\u001b[38;5;241m0\u001b[39m]\u001b[38;5;132;01m}\u001b[39;00m\u001b[38;5;124m of type \u001b[39m\u001b[38;5;132;01m{\u001b[39;00mexec\u001b[38;5;241m.\u001b[39margs[\u001b[38;5;241m1\u001b[39m]\u001b[38;5;132;01m}\u001b[39;00m\u001b[38;5;124m\"\u001b[39m) \u001b[38;5;28;01mfrom\u001b[39;00m \u001b[38;5;21;01mexec\u001b[39;00m\n",
      "\u001b[0;31mValueError\u001b[0m: 'symbols' must be a list or tuple of string, was <class 'str'>"
     ]
    }
   ],
   "source": [
    "# Should now fail correctly\n",
    "mangled_data = {**mol_data, **nonlist_symbols}\n",
    "water = Molecule(**mangled_data)"
   ]
  },
  {
   "cell_type": "code",
   "execution_count": 33,
   "id": "f901ecba",
   "metadata": {},
   "outputs": [],
   "source": [
    "# Should still work\n",
    "mangled_data = {**mol_data, **tuple_symbols}\n",
    "water = Molecule(**mangled_data)\n",
    "# Make sure we didn't break expected use cases\n",
    "water = Molecule(**mol_data)"
   ]
  },
  {
   "cell_type": "markdown",
   "id": "52a8293f",
   "metadata": {},
   "source": [
    "We kept the same `try...except` block, but now added one extra check for type. Because we were more permissive to the type, we also modified the type hint for `symbols` from `list[str]` to `Union[list[str], tuple[str, ...]]`. This had to take advantage of one of the \"[Special Forms](https://docs.python.org/3/library/typing.html#special-forms)\" of type hints that `tuple` has. \n",
    "\n",
    "In CHAPTER_1_WAFFLES, we called out that the `tuple` is immutable, so multiple arguments of type hints fed into its `[]` annotations matched 1-to-1 with the index of items in the `tuple`. There is a \"special form\" of `tuple` annotation for \"variable-length tuple of homogeneous type.\" That is denoted with the literal ellipsis. So, `tuple[str, ...]` means variable-length tuple of all types being `str`. If you feel this is confusing, consider not allowing `tuple` type, or coercing `tuple` to `list` before processing. Also consider using an automatic type/coercion checking like *pydantic* (CHAPTER-??-PYDANTIC-WAFFLES) to simplfy your code."
   ]
  },
  {
   "cell_type": "markdown",
   "id": "60708187",
   "metadata": {},
   "source": [
    "```{admonition} One-liner Validaiton\n",
    ":class: note\n",
    "It is possible to do the <code>symbols</code> validation in many other ways, including as a one-liner for the `if` statement. Because Python's `or` statements are evaluated sequentually and only if its predecesor successed, you can compress both checks into a larger `if...or` construct. If you're curious, here is one possible solution (wrapped with \\ on a newline char for human legibility):\n",
    "\n",
    "```python\n",
    "if not (isinstance(self.symbols, list) or isinstance(self.symbols, tuple)) or \\\n",
    "        any(not isinstance(x, str) for x in self.symbols):\n",
    "    raise ValueError(f\"{self.symbols} must be a list of str\")\n",
    "```"
   ]
  },
  {
   "cell_type": "markdown",
   "id": "4aeeea0a",
   "metadata": {},
   "source": [
    "### The even more difficult validation\n",
    "\n",
    "By now our validation code has started to get pretty large for evaluating only three of our entries. Some efficency could be made with funciton calls for de-duplication, but not much. Even so, we still have the most complex validator so far, a list of list of numbers! In the grand scheme of schema, this isn't that complicated of a validator, but lets check what will need to go into validating this entry. We'll reuse every concept covered so far, and just apply it with an extra outer loop. Let's cover the statements of fact and then translate them to a validator.\n",
    "\n",
    "* The top most item is a (list or tuple)\n",
    "* Each element of the outer (list or tuple) is a (list or tuple)\n",
    "* Each element of the inner (list or tuple) is a (float or int).\n",
    "\n",
    "We've expanded on our original specification to handle the edge cases we encountered previously. We're going to now work through each change we make to the `Molecule` code, one part at a time, through exercises to see how well you've picked up on what all we've done so far."
   ]
  },
  {
   "cell_type": "markdown",
   "id": "6a4c3e3a",
   "metadata": {},
   "source": [
    "<div class=\"exercise\">\n",
    "<p class=\"exercise-title\">Modifying the <code>coordinates</code> type hint</p>\n",
    "    <p>First we want to change the type hint for <code>coordinates</code> themselves to match the list statements of fact. Let's go through them backwards to put it all together.</p>\n",
    "    <p>You will find it easier and more legible to make these compound type hints variables.</p>\n",
    "\n",
    "```{admonition} \"...Is a float or int.\" Solution:\n",
    ":class: dropdown\n",
    "```python\n",
    "Union[float,int]\n",
    "\n",
    "fi = Union[float,int]\n",
    "```\n",
    "\n",
    "\n",
    "```{admonition} \"Each element of the inner (list or tuple) is a (float or int)\" Solution:\n",
    ":class: dropdown\n",
    "```python\n",
    "Union[list[Union[float,int]], tuple[Union[float,int], ...]]\n",
    "\n",
    "lfi = list[fi]\n",
    "tfi = tuple[fi, ...]\n",
    "inner = Union[lfi, tfi]\n",
    "```\n",
    "\n",
    "\n",
    "```{admonition} \"Each element of the inner (list or tuple) is a (float or int)\" Solution:\n",
    ":class: dropdown\n",
    "```python\n",
    "Union[list[Union[list[Union[float,int]], tuple[Union[float,int], ...]]], tuple[Union[list[Union[float,int]], tuple[Union[float,int], ...]], ...]]\n",
    "\n",
    "outer = Union[list[inner], tuple[inner, ...]]\n",
    "```\n",
    "\n",
    "The complexity of the final type hint suggests that maybe coercion or is a better call here (casting the tuples to lists)\n",
    "</div>"
   ]
  },
  {
   "cell_type": "markdown",
   "id": "34733728",
   "metadata": {},
   "source": [
    "<div class=\"exercise\">\n",
    "<p class=\"exercise-title\"> <code>coordinates</code> Inner Loop <code>try...except</code></p>\n",
    "    <p>The inner loop should look similar to what we did with <code>symbols</code>. Just use a placeholder name for the inner iterable element for now.</p>\n",
    "\n",
    "```{admonition} Solution:\n",
    ":class: dropdown\n",
    "```python\n",
    "try:\n",
    "    if not (isinstance(inner, list) or isinstance(inner, tuple)):\n",
    "        raise TypeError\n",
    "    for content in inner:  # Loop over elements\n",
    "        if not (isinstance(content, int), isinstance(content, float):  # Check content\n",
    "            raise ValueError(content, type(content))\n",
    "except TypeError as exec:  # Trap not iterable item\n",
    "        # This will throw if you can't iterate over self.symbols\n",
    "        raise ValueError(f\"'coordinates' inner elements must be a list or tuple of int/float, was {type(inner)}\") from exec\n",
    "except ValueError as exec:  # Trap the content error\n",
    "        raise ValueError(f\"Each inner element of 'coordinates' must be a string, was {exec.args[0]} of type {exec.args[1]}\") from exec\n",
    "```\n",
    "\n",
    "</div>"
   ]
  },
  {
   "cell_type": "markdown",
   "id": "04b241af",
   "metadata": {},
   "source": [
    "<div class=\"exercise\">\n",
    "<p class=\"exercise-title\"> <code>coordinates</code> Outer Loop <code>try...except</code></p>\n",
    "    <p>Focus just on the outer loop, put a <code>pass</code> where the inner loop would go. Try to use the placeholder name from the previous exercise to </p>\n",
    "\n",
    "```{admonition} Solution:\n",
    ":class: dropdown\n",
    "```python\n",
    "try:\n",
    "    if not (isinstance(self.coordinates, list) or isinstance(coordinates, tuple)):\n",
    "        raise TypeError\n",
    "    for inner in self.coordinates:  # Loop over elements\n",
    "        pass  # Inner loop\n",
    "except TypeError as exec:  # Trap not iterable item\n",
    "        # This will throw if you can't iterate over self.symbols\n",
    "        raise ValueError(f\"'coordinates' must be a list or tuple of int/float, was {type(inner)}\") from exec\n",
    "except ValueError as exec:  # Trap the content error\n",
    "        raise ValueError(f\"'coordinates' must be a list or tuple of int/float, however the following error was thrown: {exec}\") from exec\n",
    "```\n",
    "\n",
    "</div>"
   ]
  },
  {
   "cell_type": "markdown",
   "id": "218f6c76",
   "metadata": {},
   "source": [
    "```{admonition} One-liner Coordinates\n",
    ":class: note\n",
    "Just like with <code>symbols</code>, we can validate <code>coordinates</code> with one line as well. We throw out the ability to get much more informative errors, and admitedly double loop in this example, but its much more compact.\n",
    "\n",
    "```python\n",
    "if (not (isinstance(self.coordinates, list) or isinstance(self.coordinates, tuple)) or\n",
    "    any(not (isinstance(y, list) or isinstance(y, tuple)) for y in self.coordinates) or\n",
    "    any(any(not (isinstance(z, float) or isinstance(z, int)) for z in sub) for sub in self.coordinates)\n",
    "):\n",
    "    raise ValueError(f\"{self.coordinates} must be a (list or tuple) of (list or tuple) of (float or int)\")\n",
    "```"
   ]
  },
  {
   "cell_type": "markdown",
   "id": "ba560f28",
   "metadata": {},
   "source": [
    "## Constructing our fully validated molecule\n",
    "\n",
    "Finally, we can build out our fully, manually validated `Molecule` object. This is also the final reference code of CHAPTER_3_WAFFLES."
   ]
  },
  {
   "cell_type": "code",
   "execution_count": 40,
   "id": "c0161253",
   "metadata": {},
   "outputs": [],
   "source": [
    "# Type Helpers\n",
    "fi = Union[float,int]\n",
    "lfi = list[fi]\n",
    "tfi = tuple[fi, ...]\n",
    "inner = Union[lfi, tfi]\n",
    "lo = list[inner]\n",
    "tupo = tuple[inner, ...]\n",
    "\n",
    "@dataclass\n",
    "class Molecule:\n",
    "    name: str\n",
    "    charge: fi\n",
    "    symbols: Union[list[str], tuple[str, ...]]\n",
    "    coordinates: Union[lo, tupo]\n",
    "    \n",
    "    def __post_init__(self):\n",
    "        # We'll validate the inputs here.\n",
    "        if not isinstance(self.name, str):\n",
    "            raise ValueError(f\"'name' must be a str, was {self.name}\")\n",
    "            \n",
    "        if not (isinstance(self.charge, float) or isinstance(self.charge, int)):\n",
    "            raise ValueError(f\"'charge' must be a float or int, was {self.charge}\")\n",
    "            \n",
    "        try:\n",
    "            if not (isinstance(self.symbols, list) or isinstance(self.symbols, tuple)):\n",
    "                raise TypeError\n",
    "            for content in self.symbols:  # Loop over elements\n",
    "                if not isinstance(content, str):  # Check content\n",
    "                    raise ValueError(content, type(content))\n",
    "        except TypeError as exec:  # Trap not iterable item\n",
    "            # This will throw if you can't iterate over self.symbols\n",
    "            raise ValueError(f\"'symbols' must be a list or tuple of string, was {type(self.symbols)}\") from exec\n",
    "        except ValueError as exec:  # Trap the content error\n",
    "            raise ValueError(f\"Each element of 'symbols' must be a string, was {exec.args[0]} of type {exec.args[1]}\") from exec\n",
    "            \n",
    "        try:\n",
    "            if not (isinstance(self.coordinates, list) or isinstance(coordinates, tuple)):\n",
    "                raise TypeError\n",
    "            for inner in self.coordinates:  # Loop over elements\n",
    "                try:\n",
    "                    if not (isinstance(inner, list) or isinstance(inner, tuple)):\n",
    "                        raise TypeError\n",
    "                    for content in inner:  # Loop over elements\n",
    "                        if not (isinstance(content, int), isinstance(content, float)):  # Check content\n",
    "                            raise ValueError(content, type(content))\n",
    "                except TypeError as exec:  # Trap not iterable item\n",
    "                        # This will throw if you can't iterate over self.symbols\n",
    "                        raise ValueError(f\"'coordinates' inner elements must be a list or tuple of float/int, was {type(inner)}\") from exec\n",
    "                except ValueError as exec:  # Trap the content error\n",
    "                        raise ValueError(f\"Each inner element of 'coordinates' must be a string, was {exec.args[0]} of type {exec.args[1]}\") from exec\n",
    "        except TypeError as exec:  # Trap not iterable item\n",
    "                # This will throw if you can't iterate over self.symbols\n",
    "                raise ValueError(f\"'coordinates' must be a list or tuple of int/float, was {type(inner)}\") from exec\n",
    "        except ValueError as exec:  # Trap the content error\n",
    "                raise ValueError(f\"'coordinates' must be a list or tuple of int/float, however the following error was thrown: {exec}\") from exec\n",
    "        \n",
    "    @property\n",
    "    def num_atoms(self):\n",
    "        return len(self.symbols)\n",
    "        \n",
    "    def __str__(self):\n",
    "        return f\"name: {self.name}\\ncharge: {self.charge}\\nsymbols: {self.symbols}\""
   ]
  },
  {
   "cell_type": "markdown",
   "id": "d091970a",
   "metadata": {},
   "source": [
    "Let's check that our code validates and fails correctly"
   ]
  },
  {
   "cell_type": "code",
   "execution_count": 42,
   "id": "43fc6251",
   "metadata": {},
   "outputs": [],
   "source": [
    "water = Molecule(**mol_data)\n",
    "for bad in [bad_name, bad_charge, noniter_symbols, nonlist_symbols, bad_coords]:\n",
    "    try:\n",
    "        mangle = {**mol_data, **bad}\n",
    "        water = Molecule(**mangle)\n",
    "    except:\n",
    "        pass\n",
    "    else:\n",
    "        raise ValueError(f\"All of these should fail, but {bad} did not\")"
   ]
  },
  {
   "cell_type": "markdown",
   "id": "1bcfa9d7",
   "metadata": {},
   "source": [
    "However, despite all our validation efforts, we so far have only validated types, actual data ranges are not yet validated. E.g. `sybmols` should be the same length as the outer iterable of `coordinates`, but actually testing that still passses."
   ]
  },
  {
   "cell_type": "code",
   "execution_count": 43,
   "id": "2b9875f0",
   "metadata": {},
   "outputs": [],
   "source": [
    "bad_symbols_and_cords = {\"symbols\": [\"H\", \"H\", \"O\"],\n",
    "                         \"coordinates\": [[1, 1, 1], [2.0, 2.0, 2.0]]\n",
    "                        }  # Coordinates top-level list is not the same length as symbols\n",
    "mangle = {**mol_data, **bad_symbols_and_cords}\n",
    "water = Molecule(**mangle)"
   ]
  },
  {
   "cell_type": "markdown",
   "id": "e2f416d4",
   "metadata": {},
   "source": [
    "## Key Takeaway of Manual Validation: Don't Do It by Hand!\n",
    "\n",
    "As of now, you have written a bunch of code, just to validate 4 items of relatively simple types. What about complex dictionaries? Non-native Python types? Data structures with metadata also having their own structures? We also haven't done anything really with the type hints. None of the validation code actually read the type hints to infer what the types should be, let alone do any programing with them.\n",
    "\n",
    "Still, this chapter should have instilled how to think about validation, what edge cases to consider, how to gracefully handle errors, shown the implicit advantages of data coersion (or at least shown all the effort to accomodate not coercing), and given a respect for what will be required should you choose to validate manually.\n",
    "\n",
    "In the next chapter, we're going to show *pydantic*: A powerful schema validation tool which takes the `dataclass` structure in tandem with Python's own native type hints to do automatic validation."
   ]
  }
 ],
 "metadata": {
  "kernelspec": {
   "display_name": "Python 3 (ipykernel)",
   "language": "python",
   "name": "python3"
  },
  "language_info": {
   "codemirror_mode": {
    "name": "ipython",
    "version": 3
   },
   "file_extension": ".py",
   "mimetype": "text/x-python",
   "name": "python",
   "nbconvert_exporter": "python",
   "pygments_lexer": "ipython3",
   "version": "3.10.6"
  }
 },
 "nbformat": 4,
 "nbformat_minor": 5
}
