{
 "cells": [
  {
   "cell_type": "markdown",
   "id": "a137fcde",
   "metadata": {},
   "source": [
    "Manual Data Validation\n",
    "==================\n",
    "\n",
    "```{important} Starting File: CHAPTER_2_WAFFLES\n",
    "This chapter will start from the CHAPTER_2_WAFFLES and end on the CHAPTER_3_WAFFLES.\n",
    "```\n",
    "\n",
    "We so far have looked at type hints in Python as augments to arguments, `dataclass` decorators to reduce code and automatically cast variables to attributes of the same name, and how to make our inputs more stable. Everything we've done up to now has been making our code easier to setup, read, and work around. However, we have not done anything to validate the inputs. \n",
    "\n",
    "No mater your field of work, validation of data is going to be something that happens. There is no getting around it, especially in the scientific field. It may be offloaded, automated, or even trvially simple, but it will happen; so we may as well get better at it.\n",
    "\n",
    "```{admonition} Compatibility with Python 3.8 and below\n",
    ":class: note\n",
    "If you have Python 3.8 or below, you will need to import container type objects such as `List`, `Tuple`, `Dict`, etc. from the `typing` library instead of their native types of `list`, `tuple`, `dict`, etc. This chapter will assume Python 3.9 or greater, however, both approaches will work in >=Python 3.9 and have 1:1 replacements of the same name.\n",
    "```\n",
    "\n",
    "## Dataclass `__post_init__` method\n",
    "\n",
    "Let's take a look at our code as we left it from last chapter."
   ]
  },
  {
   "cell_type": "code",
   "execution_count": 1,
   "id": "83a5857e",
   "metadata": {},
   "outputs": [],
   "source": [
    "from dataclasses import dataclass\n",
    "from typing import Union\n",
    "\n",
    "@dataclass\n",
    "class Molecule:\n",
    "    name: str\n",
    "    charge: Union[float, int]\n",
    "    symbols: list[str]\n",
    "    coordinates: list[list[float]]\n",
    "        \n",
    "    @property\n",
    "    def num_atoms(self):\n",
    "        return len(self.symbols)\n",
    "        \n",
    "    def __str__(self):\n",
    "        return f\"name: {self.name}\\ncharge: {self.charge}\\nsymbols: {self.symbols}\""
   ]
  },
  {
   "cell_type": "code",
   "execution_count": 2,
   "id": "7009476a",
   "metadata": {},
   "outputs": [],
   "source": [
    "mol_data = {\n",
    "    \"coordinates\": [[0, 0, 0]], \n",
    "    \"symbols\": [\"H\", \"H\", \"O\"], \n",
    "    \"charge\": 0.0, \n",
    "    \"name\": \"water\"\n",
    "}"
   ]
  },
  {
   "cell_type": "markdown",
   "id": "cb85f385",
   "metadata": {},
   "source": [
    "We've seen several examples so far of feeeding in non-type appropriate code and not having errors. Now we're going to do actual validation on our `dataclass`. Although there are third party libraries to do some of this, you the developer still have to have an understand the scientific use case for what is considered valid; even beyond the type checking itself.\n",
    "\n",
    "We first have to know how to access the data on input. The `dataclass` decorator takes over the normal `__init__` process where someone may expect to write our validation code, or call the validation function(s). `dataclass` also provides a secondary function called `__post_init__` which is called automatically after the `__init__`, if it is defined. This function is basically free space for the developer to do whatever they want with the `dataclass` like there was an `__init__`, just after instance variables are assigned."
   ]
  },
  {
   "cell_type": "code",
   "execution_count": 9,
   "id": "dc1a8716",
   "metadata": {},
   "outputs": [],
   "source": [
    "@dataclass\n",
    "class Molecule:\n",
    "    name: str\n",
    "    charge: Union[float, int]\n",
    "    symbols: list[str]\n",
    "    coordinates: list[list[float]]\n",
    "    \n",
    "    def __post_init__(self):\n",
    "        # Do whatever you want here, all instance attributes will be available.\n",
    "        print(f\"{[getattr(self, thing) for thing in mol_data.keys()]}\")\n",
    "        print(\"Post Init Ran\")\n",
    "        \n",
    "    @property\n",
    "    def num_atoms(self):\n",
    "        return len(self.symbols)\n",
    "        \n",
    "    def __str__(self):\n",
    "        return f\"name: {self.name}\\ncharge: {self.charge}\\nsymbols: {self.symbols}\""
   ]
  },
  {
   "cell_type": "code",
   "execution_count": 10,
   "id": "11ca26ae",
   "metadata": {},
   "outputs": [
    {
     "name": "stdout",
     "output_type": "stream",
     "text": [
      "[[[0, 0, 0]], ['H', 'H', 'O'], 0.0, 'water']\n",
      "Post Init Ran\n"
     ]
    }
   ],
   "source": [
    "water = Molecule(**mol_data)"
   ]
  },
  {
   "cell_type": "markdown",
   "id": "ae618355",
   "metadata": {},
   "source": [
    "What you can see in the above code is that `__post_init__` did run, and does have access to all of the attributes we're working with in this problem. If we wanted to recreate the `__init__` like settings we had from the BASE_FILE_WAFFLES, we could set `self.num_atoms = len(self.symbols)` in the `__post_init_` as well, but we'll leave it as a `property`. Let's actually delve into some validation, starting with simple type validation.\n",
    "\n",
    "## Manually validating types\n",
    "\n",
    "Although there are external libraries to do type and value validation of data, we're going to go through the manual process in this chapter to show all the nuances that have to be thought of. Even the most sophisticated type-checking libraries still need the programmer to tell them what are the correct types, and are the values of those incoming data correct for the application. "
   ]
  },
  {
   "cell_type": "code",
   "execution_count": null,
   "id": "11118ff6",
   "metadata": {},
   "outputs": [],
   "source": []
  }
 ],
 "metadata": {
  "kernelspec": {
   "display_name": "Python 3 (ipykernel)",
   "language": "python",
   "name": "python3"
  },
  "language_info": {
   "codemirror_mode": {
    "name": "ipython",
    "version": 3
   },
   "file_extension": ".py",
   "mimetype": "text/x-python",
   "name": "python",
   "nbconvert_exporter": "python",
   "pygments_lexer": "ipython3",
   "version": "3.10.6"
  }
 },
 "nbformat": 4,
 "nbformat_minor": 5
}
