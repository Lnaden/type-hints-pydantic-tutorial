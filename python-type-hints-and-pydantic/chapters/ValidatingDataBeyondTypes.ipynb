{
 "cells": [
  {
   "cell_type": "markdown",
   "id": "1f659c47",
   "metadata": {},
   "source": [
    "Validating Data Beyond Types\n",
    "========================\n",
    "\n",
    "```{important} Starting File: CHAPTER_4_WAFFLES\n",
    "This chapter will start from the CHAPTER_4_WAFFLES and end on the CHAPTER_5_WAFFLES.\n",
    "```\n",
    "\n",
    "Data validation goes far beyond just type. *Pydantic* has provided the basic tools for doing data validation on data types, but it also provides the tools for writting custom validators to check so much more.\n",
    "\n",
    "We'll be covering the *pydantic* `validator` decorator and applying that to our data to check structure and scientific rigor. We'll also cover how to validate types not native to Python, such as NumPy arrays.\n",
    "\n",
    "```{admonition} Check Out Pydantic!\n",
    ":class: note\n",
    "We will not be covering all the capabilities of *pydantic* here, and we highly encourage you to visit [the pydantic docs](https://pydantic-docs.helpmanual.io/) to learn about all the powerful and easy-to-execute things *pydantic* can do.\n",
    "```\n",
    "\n",
    "\n",
    "\n",
    "```{admonition} Compatibility with Python 3.8 and below\n",
    ":class: note\n",
    "If you have Python 3.8 or below, you will need to import container type objects such as `List`, `Tuple`, `Dict`, etc. from the `typing` library instead of their native types of `list`, `tuple`, `dict`, etc. This chapter will assume Python 3.9 or greater, however, both approaches will work in >=Python 3.9 and have 1:1 replacements of the same name.\n",
    "```"
   ]
  },
  {
   "cell_type": "markdown",
   "id": "ddae438f",
   "metadata": {},
   "source": [
    "## Pydantic's Validator Decorator\n",
    "\n",
    "Let's start by looking at the state of our code prior extending the validators. As usual, lets also define our test data."
   ]
  },
  {
   "cell_type": "code",
   "execution_count": 1,
   "id": "92faef07",
   "metadata": {},
   "outputs": [],
   "source": [
    "from pydantic import BaseModel\n",
    "\n",
    "class Molecule(BaseModel):\n",
    "    name: str\n",
    "    charge: float\n",
    "    symbols: list[str]\n",
    "    coordinates: list[list[float]]\n",
    "\n",
    "    @property\n",
    "    def num_atoms(self):\n",
    "        return len(self.symbols)"
   ]
  },
  {
   "cell_type": "code",
   "execution_count": 9,
   "id": "0ecd6981",
   "metadata": {},
   "outputs": [],
   "source": [
    "mol_data = {  # Good data\n",
    "    \"coordinates\": [[0, 0, 0], [1, 1, 1], [2, 2, 2]], \n",
    "    \"symbols\": [\"H\", \"H\", \"O\"], \n",
    "    \"charge\": 0.0, \n",
    "    \"name\": \"water\"\n",
    "}\n",
    "\n",
    "bad_name = {\"name\": 789}  # Name is not str\n",
    "bad_charge = {\"charge\": [1, 0.0]}  # Charge is not int or float\n",
    "noniter_symbols = {\"symbols\": 1234567890}  # Symbols is an int\n",
    "nonlist_symbols = {\"symbols\": '[\"H\", \"H\", \"O\"]'}  # Symbols is a string (notably is a string-ified list)\n",
    "tuple_symbols = {\"symbols\": (\"H\", \"H\", \"O\")}  # Symbols as a tuple?\n",
    "bad_coords = {\"coordinates\": [\"1\", \"2\", \"3\"]}  # Coords is a single list of string\n",
    "inner_coords_not3d = {\"coordinates\": [[1, 2, 3], [4, 5]]}\n",
    "bad_symbols_and_cords = {\"symbols\": [\"H\", \"H\", \"O\"],\n",
    "                         \"coordinates\": [[1, 1, 1], [2.0, 2.0, 2.0]]\n",
    "                        }  # Coordinates top-level list is not the same length as symbols"
   ]
  },
  {
   "cell_type": "markdown",
   "id": "f84a4c7f",
   "metadata": {},
   "source": [
    "You may notice we have extended our \"Good Data\" here to have `coordinates` actually define the `Nx3` structure where `N = len(symbols)`. This is important for what we plan to validate.\n",
    "\n",
    "*pydantic* allows you to write custom validators, in addition to the type valitators which runn automatically for a type annotation. This `validator` is pulled from the `pydantic` module just like `BaseModel`, and is used to decorate a *class* function you write. Lets look at the most basic `validator` we can write and assign it to `coordinates`."
   ]
  },
  {
   "cell_type": "code",
   "execution_count": 4,
   "id": "4c9457fe",
   "metadata": {},
   "outputs": [],
   "source": [
    "from pydantic import BaseModel, validator\n",
    "\n",
    "class Molecule(BaseModel):\n",
    "    name: str\n",
    "    charge: float\n",
    "    symbols: list[str]\n",
    "    coordinates: list[list[float]]\n",
    "        \n",
    "    @validator(\"coordinates\")\n",
    "    def ensure_coordinates_is_3D(cls, coords):\n",
    "        return coords\n",
    "\n",
    "    @property\n",
    "    def num_atoms(self):\n",
    "        return len(self.symbols)"
   ]
  },
  {
   "cell_type": "markdown",
   "id": "0063eb91",
   "metadata": {},
   "source": [
    "Here we have defined an additional validator which does nothing, but has the basic structure we can look at. For convience and reference, I've broken the aspects of `validator` into a list.\n",
    "\n",
    "* The `validator` decorator takes as arguments the *exact* name of the attributes you are validating against as a string. In this case `coordinates`. You could provide multiple string args of each attribute you want to run through the validator if you want to reuse it.\n",
    "* The function name can be whatever you want it to be. We've called it `ensure_coordinates_is_3D` to be meanigful if anyone ever want to come back and see what this should be doing.\n",
    "* The function itself is a *class function*. Similar to what happens when you use the `@classmethod` decorator from native Python, this validator is intented to be called on the non-instanced class. The formal nomenclature for the first variable here is therefore `cls` and not `self`. Your IDE may complain about this, but it should be `cls`. \n",
    "* The first argument of the function can be whatever string name you want EXCLUDING the following list: `values`, `config`, and `field` (resons discussed later in chapter too)\n",
    "* The return MUST be the validated data to be fed into the attribute. We've done nothing to or variable `coords`, so we simply return it. If you fail to have a `return` statement with something, it will return `None` and that will be considered valid.\n",
    "* `validator` runs *after* type validation, unless specified (see later in this chapter)\n",
    "\n",
    "That may seem like alot of rules, but most of them are boilerplate and intutitve to use. Let's apply these items to our validator. We want to make sure the inner lists of `coordinates` are 3D, or length 3. We don't have to worry about type checking (that was done before any custom `validator` was run), so we can just do an interation of the top list and make sure. Let's apply that now."
   ]
  },
  {
   "cell_type": "code",
   "execution_count": 28,
   "id": "79a68fbd",
   "metadata": {},
   "outputs": [],
   "source": [
    "from pydantic import BaseModel, validator\n",
    "\n",
    "class Molecule(BaseModel):\n",
    "    name: str\n",
    "    charge: float\n",
    "    symbols: list[str]\n",
    "    coordinates: list[list[float]]\n",
    "        \n",
    "    @validator(\"coordinates\")\n",
    "    def ensure_coordinates_is_3D(cls, coords):\n",
    "        if any(len(failure := inner) != 3 for inner in coords):  # Walrus operator (:=) for Python 3.8+\n",
    "            raise ValueError(f\"Inner coordinates must be 3D, got {failure} of length {len(failure)}\")\n",
    "        return coords\n",
    "    \n",
    "    @property\n",
    "    def num_atoms(self):\n",
    "        return len(self.symbols)"
   ]
  },
  {
   "cell_type": "code",
   "execution_count": 29,
   "id": "b3278db3",
   "metadata": {},
   "outputs": [
    {
     "ename": "ValidationError",
     "evalue": "1 validation error for Molecule\ncoordinates\n  Inner coordinates must be 3D, got [4.0, 5.0] of length 2 (type=value_error)",
     "output_type": "error",
     "traceback": [
      "\u001b[0;31m---------------------------------------------------------------------------\u001b[0m",
      "\u001b[0;31mValidationError\u001b[0m                           Traceback (most recent call last)",
      "Input \u001b[0;32mIn [29]\u001b[0m, in \u001b[0;36m<cell line: 3>\u001b[0;34m()\u001b[0m\n\u001b[1;32m      1\u001b[0m good_water \u001b[38;5;241m=\u001b[39m Molecule(\u001b[38;5;241m*\u001b[39m\u001b[38;5;241m*\u001b[39mmol_data)\n\u001b[1;32m      2\u001b[0m mangled \u001b[38;5;241m=\u001b[39m {\u001b[38;5;241m*\u001b[39m\u001b[38;5;241m*\u001b[39mmol_data, \u001b[38;5;241m*\u001b[39m\u001b[38;5;241m*\u001b[39minner_coords_not3d}\n\u001b[0;32m----> 3\u001b[0m water \u001b[38;5;241m=\u001b[39m \u001b[43mMolecule\u001b[49m\u001b[43m(\u001b[49m\u001b[38;5;241;43m*\u001b[39;49m\u001b[38;5;241;43m*\u001b[39;49m\u001b[43mmangled\u001b[49m\u001b[43m)\u001b[49m\n",
      "File \u001b[0;32m~/miniconda3/envs/pyd-tut/lib/python3.10/site-packages/pydantic/main.py:341\u001b[0m, in \u001b[0;36mpydantic.main.BaseModel.__init__\u001b[0;34m()\u001b[0m\n",
      "\u001b[0;31mValidationError\u001b[0m: 1 validation error for Molecule\ncoordinates\n  Inner coordinates must be 3D, got [4.0, 5.0] of length 2 (type=value_error)"
     ]
    }
   ],
   "source": [
    "good_water = Molecule(**mol_data)\n",
    "mangled = {**mol_data, **inner_coords_not3d}\n",
    "water = Molecule(**mangled)"
   ]
  },
  {
   "cell_type": "markdown",
   "id": "16d4d5bb",
   "metadata": {},
   "source": [
    "Here we have checked the good data still works, and checked that the mangled data raised an error. It's important to note the error raised by the function can be any type of error, but what came out in the error report was a `ValdationError`. We can also see the error message is what we put as the error string and `type` of error is of the type we raised. This is why its very important to have meaningfull error strings when your custom validator fails.\n",
    "\n",
    "With all that said, our validator function really does look like any other function we may call to do a quick check of data, and then some special addons to make it work with *pydantic*. There is no practical limit to the nubmer of `validator`s you have in a given class, so validate to your heart's content."
   ]
  },
  {
   "cell_type": "markdown",
   "id": "d8589af9",
   "metadata": {},
   "source": [
    "```{admonition} Python Assignement Expressions \"The Walrus Operator\" <code>:=</code>\n",
    ":class: note\n",
    "Since Python 3.8, there is a new operator for \"assignment expressions\" called \"[The Walrus Operator](https://peps.python.org/pep-0572/)\" which allows variables to be assigned inside other expressions. We've used it here to trap the value at time of error and save space. Do not feel compelled to use this yourself, especially if its not clear what is happening.\n",
    "```"
   ]
  },
  {
   "cell_type": "markdown",
   "id": "5e65368a",
   "metadata": {},
   "source": [
    "<div class=\"exercise\">\n",
    "<p class=\"exercise-title\"> Check your knowledge: Validator Basics\n",
    "    <p>How would you validate that <code>symbols</code> entries are at most 2 characters? There is more than one correct solution beyond what we show here.</p>\n",
    "\n",
    "```{admonition} Possible Solution:\n",
    ":class: dropdown\n",
    "```python\n",
    "@validator(\"symbols\")\n",
    "def symbols_are_possible_element_length(cls, symbs):\n",
    "    if not all(1 <= len(failure := symb) <= 2 for symb in symbs):\n",
    "        raise ValueError(f\"Symbols be 1 or 2 characters, got {failure}\")\n",
    "    return symbs\n",
    "```\n",
    "</div>"
   ]
  },
  {
   "cell_type": "markdown",
   "id": "0abaca85",
   "metadata": {},
   "source": [
    "## Validating against other fields\n",
    "\n",
    "*pydantic*'s validators can check fields beyond their own. This is helpful for cross referencing dependent data. In our example, we want to make sure there are exactly the right number of `coordinates` as there are `symbols` in our `Molecule`. To check against other fields in a `validator`, we extend the arguments to include one called `values`. We are going to leave our initial validator to show a feature of the `validator`s for now, but we could combine them (and will) later."
   ]
  },
  {
   "cell_type": "code",
   "execution_count": 42,
   "id": "0fc2cd6e",
   "metadata": {},
   "outputs": [],
   "source": [
    "from pydantic import BaseModel, validator\n",
    "\n",
    "class Molecule(BaseModel):\n",
    "    name: str\n",
    "    charge: float\n",
    "    symbols: list[str]\n",
    "    coordinates: list[list[float]]\n",
    "        \n",
    "    @validator(\"coordinates\")\n",
    "    def ensure_coordinates_match_symbols(cls, coords, values):\n",
    "        n_symbols = len(values[\"symbols\"])\n",
    "        if (n_coords := len(coords)) != n_symbols:  # Walrus operator (:=) for Python 3.8+\n",
    "            raise ValueError(f\"There must be an equal number of XYZ coordinates as there are symbols.\" \n",
    "                             f\" There are {n_coords} coordinates and {n_symbols} symbols.\")\n",
    "        return coords\n",
    "        \n",
    "    @validator(\"coordinates\")\n",
    "    def ensure_coordinates_is_3D(cls, coords):\n",
    "        if any(len(failure := inner) != 3 for inner in coords):  # Walrus operator (:=) for Python 3.8+\n",
    "            raise ValueError(f\"Inner coordinates must be 3D, got {failure} of length {len(failure)}\")\n",
    "        return coords\n",
    "    \n",
    "    @property\n",
    "    def num_atoms(self):\n",
    "        return len(self.symbols)"
   ]
  },
  {
   "cell_type": "markdown",
   "id": "eae54a3d",
   "metadata": {},
   "source": [
    "We've added a second validator to our code called `ensure_coordinates_match_symbols`, and this funciton will validate against `coordinates`. There are two main things we can see from adding this function:\n",
    "\n",
    "1. Multiple functions can be declared to validate against the same field.\n",
    "2. We've added a one of the blocked argument names to our new validator: `values`.\n",
    "\n",
    "The reason the blocked argument names were given in the list of rules for `validators` is because *pydantic*'s `validator` reserves those to inject special code. The addition of `values` as an argument tells the `validator` to also retrive *all previously validated fields for the model*. In our case, that would be `name`, `charge`, and `symbols` as those entries appeared before `coordinates` in the list of attributes. Any and all validators which would have been applied to those three entries have already been done and what we have access to is their validated records as a dictionary called `values` in the function itself. [See the *pydantic* docs](https://pydantic-docs.helpmanual.io/usage/validators/) for more details about the special arguments in `validator`.\n",
    "\n",
    "Let's see this in action"
   ]
  },
  {
   "cell_type": "code",
   "execution_count": 43,
   "id": "87cbe661",
   "metadata": {},
   "outputs": [
    {
     "ename": "ValidationError",
     "evalue": "1 validation error for Molecule\ncoordinates\n  There must be an equal number of XYZ coordinates as there are symbols. There are 2 coordinates and 3 symbols. (type=value_error)",
     "output_type": "error",
     "traceback": [
      "\u001b[0;31m---------------------------------------------------------------------------\u001b[0m",
      "\u001b[0;31mValidationError\u001b[0m                           Traceback (most recent call last)",
      "Input \u001b[0;32mIn [43]\u001b[0m, in \u001b[0;36m<cell line: 3>\u001b[0;34m()\u001b[0m\n\u001b[1;32m      1\u001b[0m good_water \u001b[38;5;241m=\u001b[39m Molecule(\u001b[38;5;241m*\u001b[39m\u001b[38;5;241m*\u001b[39mmol_data)\n\u001b[1;32m      2\u001b[0m mangled \u001b[38;5;241m=\u001b[39m {\u001b[38;5;241m*\u001b[39m\u001b[38;5;241m*\u001b[39mmol_data, \u001b[38;5;241m*\u001b[39m\u001b[38;5;241m*\u001b[39mbad_symbols_and_cords}\n\u001b[0;32m----> 3\u001b[0m water \u001b[38;5;241m=\u001b[39m \u001b[43mMolecule\u001b[49m\u001b[43m(\u001b[49m\u001b[38;5;241;43m*\u001b[39;49m\u001b[38;5;241;43m*\u001b[39;49m\u001b[43mmangled\u001b[49m\u001b[43m)\u001b[49m\n",
      "File \u001b[0;32m~/miniconda3/envs/pyd-tut/lib/python3.10/site-packages/pydantic/main.py:341\u001b[0m, in \u001b[0;36mpydantic.main.BaseModel.__init__\u001b[0;34m()\u001b[0m\n",
      "\u001b[0;31mValidationError\u001b[0m: 1 validation error for Molecule\ncoordinates\n  There must be an equal number of XYZ coordinates as there are symbols. There are 2 coordinates and 3 symbols. (type=value_error)"
     ]
    }
   ],
   "source": [
    "good_water = Molecule(**mol_data)\n",
    "mangled = {**mol_data, **bad_symbols_and_cords}\n",
    "water = Molecule(**mangled)"
   ]
  },
  {
   "cell_type": "markdown",
   "id": "03487636",
   "metadata": {},
   "source": [
    "## Non-native Types in Pydantic\n",
    "\n",
    "Scientific data does not, and often should not, be confined to native Python types. One of the most common data types the Python, especially the sciences, is the NumPy Array (`ndarray` class). The most natural place for this would be `coordinates` where we want to simplfy this list of list construct. Let's see what happens when we try to just make the type annotation a `ndarray` and see how *pydantic* handles coersion, or how it does not."
   ]
  },
  {
   "cell_type": "code",
   "execution_count": 44,
   "id": "3f0d451e",
   "metadata": {},
   "outputs": [
    {
     "ename": "RuntimeError",
     "evalue": "no validator found for <class 'numpy.ndarray'>, see `arbitrary_types_allowed` in Config",
     "output_type": "error",
     "traceback": [
      "\u001b[0;31m---------------------------------------------------------------------------\u001b[0m",
      "\u001b[0;31mRuntimeError\u001b[0m                              Traceback (most recent call last)",
      "Input \u001b[0;32mIn [44]\u001b[0m, in \u001b[0;36m<cell line: 4>\u001b[0;34m()\u001b[0m\n\u001b[1;32m      1\u001b[0m \u001b[38;5;28;01mimport\u001b[39;00m \u001b[38;5;21;01mnumpy\u001b[39;00m \u001b[38;5;28;01mas\u001b[39;00m \u001b[38;5;21;01mnp\u001b[39;00m\n\u001b[1;32m      2\u001b[0m \u001b[38;5;28;01mfrom\u001b[39;00m \u001b[38;5;21;01mpydantic\u001b[39;00m \u001b[38;5;28;01mimport\u001b[39;00m BaseModel, validator\n\u001b[0;32m----> 4\u001b[0m \u001b[38;5;28;01mclass\u001b[39;00m \u001b[38;5;21;01mMolecule\u001b[39;00m(BaseModel):\n\u001b[1;32m      5\u001b[0m     name: \u001b[38;5;28mstr\u001b[39m\n\u001b[1;32m      6\u001b[0m     charge: \u001b[38;5;28mfloat\u001b[39m\n",
      "File \u001b[0;32m~/miniconda3/envs/pyd-tut/lib/python3.10/site-packages/pydantic/main.py:205\u001b[0m, in \u001b[0;36mpydantic.main.ModelMetaclass.__new__\u001b[0;34m()\u001b[0m\n",
      "File \u001b[0;32m~/miniconda3/envs/pyd-tut/lib/python3.10/site-packages/pydantic/fields.py:491\u001b[0m, in \u001b[0;36mpydantic.fields.ModelField.infer\u001b[0;34m()\u001b[0m\n",
      "File \u001b[0;32m~/miniconda3/envs/pyd-tut/lib/python3.10/site-packages/pydantic/fields.py:421\u001b[0m, in \u001b[0;36mpydantic.fields.ModelField.__init__\u001b[0;34m()\u001b[0m\n",
      "File \u001b[0;32m~/miniconda3/envs/pyd-tut/lib/python3.10/site-packages/pydantic/fields.py:542\u001b[0m, in \u001b[0;36mpydantic.fields.ModelField.prepare\u001b[0;34m()\u001b[0m\n",
      "File \u001b[0;32m~/miniconda3/envs/pyd-tut/lib/python3.10/site-packages/pydantic/fields.py:804\u001b[0m, in \u001b[0;36mpydantic.fields.ModelField.populate_validators\u001b[0;34m()\u001b[0m\n",
      "File \u001b[0;32m~/miniconda3/envs/pyd-tut/lib/python3.10/site-packages/pydantic/validators.py:723\u001b[0m, in \u001b[0;36mfind_validators\u001b[0;34m()\u001b[0m\n",
      "\u001b[0;31mRuntimeError\u001b[0m: no validator found for <class 'numpy.ndarray'>, see `arbitrary_types_allowed` in Config"
     ]
    }
   ],
   "source": [
    "import numpy as np\n",
    "from pydantic import BaseModel, validator\n",
    "\n",
    "class Molecule(BaseModel):\n",
    "    name: str\n",
    "    charge: float\n",
    "    symbols: list[str]\n",
    "    coordinates: np.ndarray\n",
    "        \n",
    "    @validator(\"coordinates\")\n",
    "    def ensure_coordinates_match_symbols(cls, coords, values):\n",
    "        n_symbols = len(values[\"symbols\"])\n",
    "        if (n_coords := len(coords)) != n_symbols:  # Walrus operator (:=) for Python 3.8+\n",
    "            raise ValueError(f\"There must be an equal number of XYZ coordinates as there are symbols.\" \n",
    "                             f\" There are {n_coords} coordinates and {n_symbols} symbols.\")\n",
    "        return coords\n",
    "        \n",
    "    @validator(\"coordinates\")\n",
    "    def ensure_coordinates_is_3D(cls, coords):\n",
    "        if any(len(failure := inner) != 3 for inner in coords):  # Walrus operator (:=) for Python 3.8+\n",
    "            raise ValueError(f\"Inner coordinates must be 3D, got {failure} of length {len(failure)}\")\n",
    "        return coords\n",
    "    \n",
    "    @property\n",
    "    def num_atoms(self):\n",
    "        return len(self.symbols)"
   ]
  },
  {
   "cell_type": "markdown",
   "id": "be1b9077",
   "metadata": {},
   "source": [
    "This error was thrown because *pydantic* is coded to handle certain types of data, but it cannot handle type it was not programmed to understand. However, *pydantic* does provide a usefull erorr message to fix this.\n",
    "\n",
    "You can configure your *pydantic* models to modify their behavior by adding a class within the `BaseModel` class explicitly called `Config`. This is not an imported object, its just a class bearing that name. Within that class, you set class attributes that serve as the options.\n",
    "\n",
    "```{admonition} More Config settings\n",
    ":class: note\n",
    "You can see all of the config settings [in the *pydantic* docs](https://pydantic-docs.helpmanual.io/usage/model_config/)\n",
    "```"
   ]
  },
  {
   "cell_type": "markdown",
   "id": "fe3c701f",
   "metadata": {},
   "source": [
    "Our particular error is saying we need to configure our model and set `arbitrary_types_allowed`, in this case to `True`. This will tell this particular `BaseModel` to permit types that it does not naturally understand how to handle, and assume the user/programer will handle it. Let's see what `Molecule` looks like with this set. Note: The location of the `class Config` statement does not mater, and `Config` is on a per-model basis, not a global *pydantic* config."
   ]
  },
  {
   "cell_type": "code",
   "execution_count": 52,
   "id": "4dbb6f29",
   "metadata": {},
   "outputs": [],
   "source": [
    "import numpy as np\n",
    "from pydantic import BaseModel, validator\n",
    "\n",
    "class Molecule(BaseModel):\n",
    "    name: str\n",
    "    charge: float\n",
    "    symbols: list[str]\n",
    "    coordinates: np.ndarray\n",
    "        \n",
    "    class Config:\n",
    "        arbitrary_types_allowed = True\n",
    "        \n",
    "    @validator(\"coordinates\")\n",
    "    def ensure_coordinates_match_symbols(cls, coords, values):\n",
    "        n_symbols = len(values[\"symbols\"])\n",
    "        if (n_coords := len(coords)) != n_symbols:  # Walrus operator (:=) for Python 3.8+\n",
    "            raise ValueError(f\"There must be an equal number of XYZ coordinates as there are symbols.\" \n",
    "                             f\" There are {n_coords} coordinates and {n_symbols} symbols.\")\n",
    "        return coords\n",
    "        \n",
    "    @validator(\"coordinates\")\n",
    "    def ensure_coordinates_is_3D(cls, coords):\n",
    "        if any(len(failure := inner) != 3 for inner in coords):  # Walrus operator (:=) for Python 3.8+\n",
    "            raise ValueError(f\"Inner coordinates must be 3D, got {failure} of length {len(failure)}\")\n",
    "        return coords\n",
    "    \n",
    "    @property\n",
    "    def num_atoms(self):\n",
    "        return len(self.symbols)"
   ]
  },
  {
   "cell_type": "markdown",
   "id": "81eb8bbd",
   "metadata": {},
   "source": [
    "Our model is now configured to allow aribtrary types; no more error. Let's see what happens when we pass in our data."
   ]
  },
  {
   "cell_type": "code",
   "execution_count": 53,
   "id": "a5bc5ca1",
   "metadata": {},
   "outputs": [
    {
     "ename": "ValidationError",
     "evalue": "1 validation error for Molecule\ncoordinates\n  instance of ndarray expected (type=type_error.arbitrary_type; expected_arbitrary_type=ndarray)",
     "output_type": "error",
     "traceback": [
      "\u001b[0;31m---------------------------------------------------------------------------\u001b[0m",
      "\u001b[0;31mValidationError\u001b[0m                           Traceback (most recent call last)",
      "Input \u001b[0;32mIn [53]\u001b[0m, in \u001b[0;36m<cell line: 1>\u001b[0;34m()\u001b[0m\n\u001b[0;32m----> 1\u001b[0m water \u001b[38;5;241m=\u001b[39m \u001b[43mMolecule\u001b[49m\u001b[43m(\u001b[49m\u001b[38;5;241;43m*\u001b[39;49m\u001b[38;5;241;43m*\u001b[39;49m\u001b[43mmol_data\u001b[49m\u001b[43m)\u001b[49m\n",
      "File \u001b[0;32m~/miniconda3/envs/pyd-tut/lib/python3.10/site-packages/pydantic/main.py:341\u001b[0m, in \u001b[0;36mpydantic.main.BaseModel.__init__\u001b[0;34m()\u001b[0m\n",
      "\u001b[0;31mValidationError\u001b[0m: 1 validation error for Molecule\ncoordinates\n  instance of ndarray expected (type=type_error.arbitrary_type; expected_arbitrary_type=ndarray)"
     ]
    }
   ],
   "source": [
    "water = Molecule(**mol_data)"
   ]
  },
  {
   "cell_type": "markdown",
   "id": "feab2a97",
   "metadata": {},
   "source": [
    "We're still getting a validation error, but its different. *pydantic* is now telling us that the data given to `coordinates` must be of type `ndarray`. Remember there are two default levels of validation in *pydantic*: Ensure type, manually written validators. When we have `arbitrary_types_allowed` configured, any unknown type to *pydantic* is not type-checked or coerced beyond that it is the declared type. Effectivley, a glorified `isinstance` check.\n",
    "\n",
    "So to fix this, either the user has to have already cast the data to the expected type, or the developer has to preempt the type validation somehow."
   ]
  },
  {
   "cell_type": "markdown",
   "id": "f09fcf4c",
   "metadata": {},
   "source": [
    "## Pre-Validators in Pydantic\n",
    "\n",
    "Good news! You can make *pydantic* validators that run before the type validation, effectivley adding a third layer of validation stack. These are called \"pre-validators\" and will run before any other level of validator. The primary use case for these validators is data coercion, and that includes casting incoming data to specific types. E.g. Casting a list of lists to a NumPy array because we have `arbitrary_types_allowed` set.\n",
    "\n",
    "A pre-validator is defined exactly like any other `validator`, it just has the keyword `pre=True` in its arguments. We're going to use the validator to take the `coordinates` data in, and cast it to a NumPy array."
   ]
  },
  {
   "cell_type": "code",
   "execution_count": 54,
   "id": "c9428c0d",
   "metadata": {},
   "outputs": [],
   "source": [
    "import numpy as np\n",
    "from pydantic import BaseModel, validator\n",
    "\n",
    "class Molecule(BaseModel):\n",
    "    name: str\n",
    "    charge: float\n",
    "    symbols: list[str]\n",
    "    coordinates: np.ndarray\n",
    "        \n",
    "    class Config:\n",
    "        arbitrary_types_allowed = True\n",
    "    \n",
    "    @validator(\"coordinates\", pre=True)\n",
    "    def coord_to_numpy(cls, coords):\n",
    "        try:\n",
    "            coords = np.asarray(coords)\n",
    "        except ValueError:\n",
    "            raise ValueError(f\"Could not cast {coords} to numpy array\")\n",
    "        return coords\n",
    "        \n",
    "    @validator(\"coordinates\")\n",
    "    def ensure_coordinates_match_symbols(cls, coords, values):\n",
    "        n_symbols = len(values[\"symbols\"])\n",
    "        if (n_coords := len(coords)) != n_symbols:  # Walrus operator (:=) for Python 3.8+\n",
    "            raise ValueError(f\"There must be an equal number of XYZ coordinates as there are symbols.\" \n",
    "                             f\" There are {n_coords} coordinates and {n_symbols} symbols.\")\n",
    "        return coords\n",
    "        \n",
    "    @validator(\"coordinates\")\n",
    "    def ensure_coordinates_is_3D(cls, coords):\n",
    "        if any(len(failure := inner) != 3 for inner in coords):  # Walrus operator (:=) for Python 3.8+\n",
    "            raise ValueError(f\"Inner coordinates must be 3D, got {failure} of length {len(failure)}\")\n",
    "        return coords\n",
    "    \n",
    "    @property\n",
    "    def num_atoms(self):\n",
    "        return len(self.symbols)"
   ]
  },
  {
   "cell_type": "markdown",
   "id": "e7516e7b",
   "metadata": {},
   "source": [
    "Now we can see what happens when we run our model"
   ]
  },
  {
   "cell_type": "code",
   "execution_count": 56,
   "id": "1e8f84d9",
   "metadata": {},
   "outputs": [
    {
     "data": {
      "text/plain": [
       "array([[0, 0, 0],\n",
       "       [1, 1, 1],\n",
       "       [2, 2, 2]])"
      ]
     },
     "execution_count": 56,
     "metadata": {},
     "output_type": "execute_result"
    }
   ],
   "source": [
    "water = Molecule(**mol_data)\n",
    "water.coordinates"
   ]
  },
  {
   "cell_type": "markdown",
   "id": "180b0371",
   "metadata": {},
   "source": [
    "We now have a NumPy array for our `coordinates`. Since we now have a NumPy array for `coordinates`, we can refine the original `validator`s. We'll condense our normal `coordinates` `validator`s down to a single one."
   ]
  },
  {
   "cell_type": "code",
   "execution_count": 59,
   "id": "5b207e40",
   "metadata": {},
   "outputs": [],
   "source": [
    "import numpy as np\n",
    "from pydantic import BaseModel, validator\n",
    "\n",
    "class Molecule(BaseModel):\n",
    "    name: str\n",
    "    charge: float\n",
    "    symbols: list[str]\n",
    "    coordinates: np.ndarray\n",
    "        \n",
    "    class Config:\n",
    "        arbitrary_types_allowed = True\n",
    "    \n",
    "    @validator(\"coordinates\", pre=True)\n",
    "    def coord_to_numpy(cls, coords):\n",
    "        try:\n",
    "            coords = np.asarray(coords)\n",
    "        except ValueError:\n",
    "            raise ValueError(f\"Could not cast {coords} to numpy array\")\n",
    "        return coords\n",
    "        \n",
    "    @validator(\"coordinates\")\n",
    "    def coords_length_of_symbols(cls, coords, values):\n",
    "        symbols = values[\"symbols\"]\n",
    "        if (len(coords.shape) != 2) or (len(symbols) != coords.shape[0]) or (coords.shape[1] != 3):\n",
    "            raise ValueError(f\"Coordinates must be of shape [Number Symbols, 3], was {coords.shape}\")\n",
    "        return coords\n",
    "    \n",
    "    @property\n",
    "    def num_atoms(self):\n",
    "        return len(self.symbols)"
   ]
  },
  {
   "cell_type": "code",
   "execution_count": 60,
   "id": "2ff87067",
   "metadata": {},
   "outputs": [],
   "source": [
    "water = Molecule(**mol_data)"
   ]
  },
  {
   "cell_type": "code",
   "execution_count": 62,
   "id": "f9049ab5",
   "metadata": {},
   "outputs": [
    {
     "ename": "ValidationError",
     "evalue": "2 validation errors for Molecule\ncharge\n  value is not a valid float (type=type_error.float)\ncoordinates\n  Coordinates must be of shape [Number Symbols, 3], was (3,) (type=value_error)",
     "output_type": "error",
     "traceback": [
      "\u001b[0;31m---------------------------------------------------------------------------\u001b[0m",
      "\u001b[0;31mValidationError\u001b[0m                           Traceback (most recent call last)",
      "Input \u001b[0;32mIn [62]\u001b[0m, in \u001b[0;36m<cell line: 2>\u001b[0;34m()\u001b[0m\n\u001b[1;32m      1\u001b[0m mangle \u001b[38;5;241m=\u001b[39m {\u001b[38;5;241m*\u001b[39m\u001b[38;5;241m*\u001b[39mmol_data, \u001b[38;5;241m*\u001b[39m\u001b[38;5;241m*\u001b[39mbad_charge, \u001b[38;5;241m*\u001b[39m\u001b[38;5;241m*\u001b[39mbad_coords}\n\u001b[0;32m----> 2\u001b[0m water \u001b[38;5;241m=\u001b[39m \u001b[43mMolecule\u001b[49m\u001b[43m(\u001b[49m\u001b[38;5;241;43m*\u001b[39;49m\u001b[38;5;241;43m*\u001b[39;49m\u001b[43mmangle\u001b[49m\u001b[43m)\u001b[49m\n",
      "File \u001b[0;32m~/miniconda3/envs/pyd-tut/lib/python3.10/site-packages/pydantic/main.py:341\u001b[0m, in \u001b[0;36mpydantic.main.BaseModel.__init__\u001b[0;34m()\u001b[0m\n",
      "\u001b[0;31mValidationError\u001b[0m: 2 validation errors for Molecule\ncharge\n  value is not a valid float (type=type_error.float)\ncoordinates\n  Coordinates must be of shape [Number Symbols, 3], was (3,) (type=value_error)"
     ]
    }
   ],
   "source": [
    "mangle = {**mol_data, **bad_charge, **bad_coords}\n",
    "water = Molecule(**mangle)"
   ]
  },
  {
   "cell_type": "markdown",
   "id": "e4b6c3ae",
   "metadata": {},
   "source": [
    "We've now upgraded our `Molecule` with more advanced data validation leaning into scientific validity, added in custom types which increase our model's usability, and configured our model to further expand our capabilities. The code is now at the source materials labeled CHAPTER_5_WAFFLES.\n",
    "\n",
    "Next chapter we'll look at nesting models to allow more complicated data structures. Below is a supplementary section on how you can define custom, non-native types without `arbitrary_types_allowed`, giving you greater control over defining custom or even shorthand types."
   ]
  },
  {
   "cell_type": "markdown",
   "id": "8f777e2a",
   "metadata": {},
   "source": [
    "## Supplemental: Defining Custom Types with Built-In Validators"
   ]
  },
  {
   "cell_type": "code",
   "execution_count": null,
   "id": "984b76e2",
   "metadata": {},
   "outputs": [],
   "source": []
  }
 ],
 "metadata": {
  "kernelspec": {
   "display_name": "Python 3 (ipykernel)",
   "language": "python",
   "name": "python3"
  },
  "language_info": {
   "codemirror_mode": {
    "name": "ipython",
    "version": 3
   },
   "file_extension": ".py",
   "mimetype": "text/x-python",
   "name": "python",
   "nbconvert_exporter": "python",
   "pygments_lexer": "ipython3",
   "version": "3.10.6"
  }
 },
 "nbformat": 4,
 "nbformat_minor": 5
}
