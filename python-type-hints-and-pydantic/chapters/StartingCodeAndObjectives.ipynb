{
 "cells": [
  {
   "cell_type": "markdown",
   "id": "8f5060fe",
   "metadata": {},
   "source": [
    "(ch00)=\n",
    "# Starting Code and Objectives"
   ]
  },
  {
   "cell_type": "markdown",
   "id": "1ee079f5",
   "metadata": {},
   "source": [
    "```{admonition} Starting File: <code>00_base_molecule.py</code>\n",
    ":class: important\n",
    "This chapter will start from the <code>00_base_molecule.py</code> and end on the <code>00_base_molecule.py</code>. No modifications will be made in this chapter, we're simply looking at the structure.\n",
    "```\n",
    "\n",
    "This chapter will cover the basic file we will be manipulating, what it does, and what we will be doing to it. The comands we run will be very simple, but we will be manipulating the main class shown below as we build out our features and cover concepts.\n",
    "\n",
    "## Base Class: A Simple Molecule\n",
    "\n",
    "Below, we have the code that we're going to be manipulating with a main class we've called `Molecule`"
   ]
  },
  {
   "cell_type": "code",
   "execution_count": 1,
   "id": "c87d5bc7",
   "metadata": {},
   "outputs": [],
   "source": [
    "class Molecule:\n",
    "    def __init__(self, name, charge, symbols, coordinates):\n",
    "        self.name = name\n",
    "        self.charge = charge\n",
    "        self.symbols = symbols\n",
    "        self.coordinates = coordinates\n",
    "        self.num_atom = len(symbols)\n",
    "\n",
    "    def __str__(self):\n",
    "        return f\"name: {self.name}\\ncharge: {self.charge}\\nsymbols: {self.symbols}\""
   ]
  },
  {
   "cell_type": "markdown",
   "id": "104498db",
   "metadata": {},
   "source": [
    "What is `Molecule`? It is a very simplistic representation of a molecule that you might choose to write as you go about developing your own code especially if you're in the molecular sciences. It's unlikely that you will necessarily need to write this on your own as there are many external libraries you could use but for that purpose of this workshop, we're going to be building this out.\n",
    "\n",
    "The base `Molecule` class that simply takes it as its initlilization an arbitrary `name`, a `charge`, `symbols` for the elements, and `coordinates`. Instanciation then assigns each of these arguments to a corresponding attribute of the same name. Finally, then we also add an extra attribute to provide a number of atoms.\n",
    "\n",
    "Let's put our `Molecule` class to work and create a very simple Water representation."
   ]
  },
  {
   "cell_type": "code",
   "execution_count": 4,
   "id": "7ab4190c",
   "metadata": {},
   "outputs": [],
   "source": [
    "water = Molecule(\"water\", 0.0, [\"H\", \"H\", \"O\"], [0, 0, 0])"
   ]
  },
  {
   "cell_type": "markdown",
   "id": "a6ccdff0",
   "metadata": {},
   "source": [
    "The water we've specified has no charge; has elements `H`, `H`, and `O`; and simple coordinates centered at `(0,0,0` in a 3D space. \n",
    "\n",
    "You may note that the `coordinates` are not actually sufficeient to specify 3, three-dimensional locations, but instead define a one-dimensional location, so this could be center of mass coordinates this but this certainly isn't atomic coordinates. We'll come back to that later and instead just print out our `water`. "
   ]
  },
  {
   "cell_type": "code",
   "execution_count": 6,
   "id": "305826f1",
   "metadata": {},
   "outputs": [
    {
     "name": "stdout",
     "output_type": "stream",
     "text": [
      "name: water\n",
      "charge: 0.0\n",
      "symbols: ['H', 'H', 'O']\n"
     ]
    }
   ],
   "source": [
    "print(water)"
   ]
  },
  {
   "cell_type": "markdown",
   "id": "c1080747",
   "metadata": {},
   "source": [
    "## Problems of Types\n",
    "\n",
    "Everything was assigned correctly and dutifully represented through the `__str__` method we wrote into the class. However, you might notice several things about this that aren't necessarily the most clear: what type of data does this class accept?\n",
    "\n",
    "Python is what is called a \"Duck Typing Language,\" so arguments and variables that are assigned from those areguments just assume or adopt the type given to them without any regard if they can be syntactically used correctly. If tpyes were enforced natively in Python, it would be called as \"Strict Typing Language.\" Duck typing is a very powerful tool in that you can code quicker and be more flexible, but it does have downsides, especially in the scientific computing world where data and their types tend to require rigor.\n",
    "\n",
    "If we wanted to provide some useful information not only you the developer, some other developer, or end users right inside the code, separate from documentation strings, we can use something called \"Type Hints\""
   ]
  }
 ],
 "metadata": {
  "kernelspec": {
   "display_name": "Python 3 (ipykernel)",
   "language": "python",
   "name": "python3"
  },
  "language_info": {
   "codemirror_mode": {
    "name": "ipython",
    "version": 3
   },
   "file_extension": ".py",
   "mimetype": "text/x-python",
   "name": "python",
   "nbconvert_exporter": "python",
   "pygments_lexer": "ipython3",
   "version": "3.10.6"
  }
 },
 "nbformat": 4,
 "nbformat_minor": 5
}
