{
 "cells": [
  {
   "cell_type": "markdown",
   "id": "eeb66af9",
   "metadata": {},
   "source": [
    "Type Hints in Python\n",
    "================\n",
    "\n",
    "```{important} Starting File: BASE_FILE_WAFFLES\n",
    "This chapter will start from the BASE_FILE_WAFFLES and end on the CHAPTER_1_WAFFLES.\n",
    "```\n",
    "\n",
    "Python allows the abillty to annotate variables and outputs through the power of \"Type Hints.\" These augment the arguments and optionally the functional returns provide additional data about what types are expected for a particular argument. \n",
    "\n",
    "```{admonition} Additional Reading\n",
    ":class: note\n",
    "Learn more about Type Hints and Typing [from Python's docs themselves](https://docs.python.org/3/library/typing.html)\n",
    "```"
   ]
  },
  {
   "cell_type": "code",
   "execution_count": 1,
   "id": "6a2dbf89",
   "metadata": {},
   "outputs": [],
   "source": [
    "class Molecule:\n",
    "    def __init__(self, name, charge, symbols, coordinates):\n",
    "        self.name = name\n",
    "        self.charge = charge\n",
    "        self.symbols = symbols\n",
    "        self.coordinates = coordinates\n",
    "        self.num_atom = len(symbols)\n",
    "\n",
    "    def __str__(self):\n",
    "        return f\"name: {self.name}\\ncharge: {self.charge}\\nsymbols: {self.symbols}\""
   ]
  },
  {
   "cell_type": "markdown",
   "id": "92e0712c",
   "metadata": {},
   "source": [
    "## Inserting Your First Type Hints\n",
    "\n",
    "Let's start from our base `Molecule` again, posted above. We know what types of variables we want each of these arguments to accept, and so lets provide type hints to do this.\n",
    "\n",
    "A type hint is done by adding a `: type` after a variable in the *arguments* fields, replacing `type` with whatever Python type you expect. So if we wanted to annotate `name` to be a string type, we would write it like (truncated example):"
   ]
  },
  {
   "cell_type": "code",
   "execution_count": 2,
   "id": "3a4f2a08",
   "metadata": {},
   "outputs": [],
   "source": [
    "def __init__(self, name: str, charge, symbols, coordinates):\n",
    "    self.name = name"
   ]
  },
  {
   "cell_type": "markdown",
   "id": "420dabbe",
   "metadata": {},
   "source": [
    "Now we have augmented the `name` argument to say say this is a should should be a `string` type. Note that we only provided the type hint to the argument, not to the assignment of `self.name = name` because that code is internal and not interacted with by a user or by other code. Similarly, if we were to call this code, we don't provide the type hint on the call, only the deffinition."
   ]
  },
  {
   "cell_type": "code",
   "execution_count": 3,
   "id": "a7a49f23",
   "metadata": {},
   "outputs": [],
   "source": [
    "class Molecule:\n",
    "    def __init__(self, name: str , charge, symbols, coordinates):\n",
    "        self.name = name  # Note no Type Hint here\n",
    "        self.charge = charge\n",
    "        self.symbols = symbols\n",
    "        self.coordinates = coordinates\n",
    "        self.num_atom = len(symbols)\n",
    "\n",
    "    def __str__(self):\n",
    "        return f\"name: {self.name}\\ncharge: {self.charge}\\nsymbols: {self.symbols}\""
   ]
  },
  {
   "cell_type": "code",
   "execution_count": 4,
   "id": "5f947e65",
   "metadata": {},
   "outputs": [],
   "source": [
    "water = Molecule(\"water\", 0.0, [\"H\", \"H\", \"O\"], [0, 0, 0])  # Note no Type Hint Here"
   ]
  },
  {
   "cell_type": "markdown",
   "id": "6f0f0bfa",
   "metadata": {},
   "source": [
    "If you try to augment and argument on call, you get an error."
   ]
  },
  {
   "cell_type": "code",
   "execution_count": 6,
   "id": "58f299d2",
   "metadata": {},
   "outputs": [
    {
     "ename": "SyntaxError",
     "evalue": "invalid syntax (3076683982.py, line 1)",
     "output_type": "error",
     "traceback": [
      "\u001b[0;36m  Input \u001b[0;32mIn [6]\u001b[0;36m\u001b[0m\n\u001b[0;31m    water = Molecule(\"water\": str, 0.0, [\"H\", \"H\", \"O\"], [0, 0, 0])\u001b[0m\n\u001b[0m                            ^\u001b[0m\n\u001b[0;31mSyntaxError\u001b[0m\u001b[0;31m:\u001b[0m invalid syntax\n"
     ]
    }
   ],
   "source": [
    "water = Molecule(\"water\": str, 0.0, [\"H\", \"H\", \"O\"], [0, 0, 0])"
   ]
  },
  {
   "cell_type": "markdown",
   "id": "fb0d8162",
   "metadata": {},
   "source": [
    "Now lets assign a type hint to `charge`. Just like with `name`, we expect `charge` to only be certain types. We won't worry about units in this workshop and instead stick to dimensionless or implicit units. We didn't specify if this charge is per-atom or net charge, so we don't know if this needs to be of type `int` or type `float`. In the name of being safe, lets assume we want to assign `float` as a type hint to `charge`. Try it now.\n",
    "\n",
    "<div class=\"exercise\">\n",
    "    <p class=\"exercise-title\">Check Your Understanding</p>\n",
    "    <p>Just as we assigned the type hint <code>str</code> to <code>name</code>. What would the <code>def __init__</code> constructor look like if we  assigned the type hint <code>float</code> to <code>charge</code>?</p>\n",
    "\n",
    "    \n",
    "```{admonition} Solution\n",
    ":class: dropdown\n",
    "    \n",
    "```python\n",
    "def __init__(self, name: str, charge: float, symbols, coordinates):   \n",
    "```\n",
    "</div>"
   ]
  },
  {
   "cell_type": "markdown",
   "id": "ba1929c1",
   "metadata": {},
   "source": [
    "## Compound types, what NOT to do, and the `typing` library\n",
    "\n",
    "We showed how to assign a single accepted type to `charge` by giving it a `float` type hint, but we also discussed how the type might also be an integer, depending on use case. So, somebody could pass an integer that would also be accepted. How do we represent multiple valid types through type hints?"
   ]
  },
  {
   "cell_type": "markdown",
   "id": "d7d4ae9a",
   "metadata": {},
   "source": [
    "### Naive compound type hints and why they don't work.\n",
    "\n",
    "The naive represnetation would be to simply extend the type hints like we might a normal set of arguments as such.\n",
    "\n",
    "What we can't just do, and because this this, represents an extension of the arguments and obviously if we put in here that would overload of the end type that is native to python \n"
   ]
  },
  {
   "cell_type": "code",
   "execution_count": 8,
   "id": "f9788f90",
   "metadata": {},
   "outputs": [],
   "source": [
    "def __init__(self, name: str, charge: float, int, symbols, coordinates):\n",
    "    pass"
   ]
  },
  {
   "cell_type": "markdown",
   "id": "4a4dfdbd",
   "metadata": {},
   "source": [
    "Which doesn't throw an error, but isn't correct. `float` is still the type hint to `charge`, but `int` is now the name of a variabl\n",
    "e assigned as an argument and would overload of the `int` type that is native to Python. We can check that with the `inspect` library."
   ]
  },
  {
   "cell_type": "code",
   "execution_count": 9,
   "id": "f790dbbd",
   "metadata": {},
   "outputs": [
    {
     "data": {
      "text/plain": [
       "['self', 'name', 'charge', 'int', 'symbols', 'coordinates']"
      ]
     },
     "execution_count": 9,
     "metadata": {},
     "output_type": "execute_result"
    }
   ],
   "source": [
    "from inspect import getfullargspec\n",
    "getfullargspec(__init__).args"
   ]
  },
  {
   "cell_type": "markdown",
   "id": "c1e690cd",
   "metadata": {},
   "source": [
    "Where `int` is now an argument variable, and trying to use the native `int` function/type inside that function would not work as expected.\n",
    "\n",
    "Another idea for grouping arguments is to group them in something like a list or tuple. This does not technically fail, but as the name \"type *hint*\" implies, you're only writting hints, not functional code (we'll revisit this in CHAPTER_PYDANTIC_WAFFLES). So long as you don't write anything syntactically wrong, the hint will be accepted. Here's a couple examples of syntacticallly correct but incomprehensible type hints."
   ]
  },
  {
   "cell_type": "code",
   "execution_count": 28,
   "id": "9b019f80",
   "metadata": {},
   "outputs": [],
   "source": [
    "def __init__(self, name: str, charge: (float, int), symbols, coordinates):\n",
    "    pass\n",
    "def __init__(self, name: str, charge: 123456789, symbols, coordinates):\n",
    "    pass\n",
    "def __init__(self, name: str, charge: [1 if \"wood\" in i else 0 for i in \"How much wood could a woodchuck chuck if a woodchuck could chuck wood?\".split()], symbols, coordinates):\n",
    "    pass"
   ]
  },
  {
   "cell_type": "markdown",
   "id": "09614c0e",
   "metadata": {},
   "source": [
    "### Compound type hints, the right way\n",
    "\n",
    "The correct way to define multiple valid types is to define a `Union` of them, just like the concept of \"union\" from set theory. In this context, \"union\" simply means \"any of the items in this collection are valid. \n",
    "\n",
    "We'll need the native Python library called `typing` to access the `Union` object. This module contains many different objects that you can bring into your code to represent and create these type hints. If we want to say that `charge`  could be multiple types, we need to import the `Union` class.\n",
    "\n"
   ]
  },
  {
   "cell_type": "code",
   "execution_count": 15,
   "id": "5fd61759",
   "metadata": {},
   "outputs": [],
   "source": [
    "from typing import Union"
   ]
  },
  {
   "cell_type": "markdown",
   "id": "6ceb2e55",
   "metadata": {},
   "source": [
    "This `Union` (and other classes from `typing`) is a special class of defining generic types which we do NOT call with parenthesies, `()`. Instead, these generic containers wrap their arguments in square brackets, `[]`, with multiple arguments separated by commas. Lets apply that now to the `charge` so it is now the union of `float` and `int`."
   ]
  },
  {
   "cell_type": "code",
   "execution_count": 16,
   "id": "2f0b7273",
   "metadata": {},
   "outputs": [],
   "source": [
    "class Molecule:\n",
    "    def __init__(self, name: str, charge: Union[float, int], symbols, coordinates):\n",
    "        self.name = name\n",
    "        self.charge = charge\n",
    "        self.symbols = symbols\n",
    "        self.coordinates = coordinates\n",
    "        self.num_atom = len(symbols)\n",
    "\n",
    "    def __str__(self):\n",
    "        return f\"name: {self.name}\\ncharge: {self.charge}\\nsymbols: {self.symbols}\""
   ]
  },
  {
   "cell_type": "markdown",
   "id": "fb3effb4",
   "metadata": {},
   "source": [
    "Great! Let's move on to `symbols`? `symbols` is not a simple type where it's a singular immutable type words like a `str`, `float` or `int`; it is instead a sequence, specifically a `list`.\n",
    "\n",
    "```{admonition} Differences between >=Python 3.9 and before.\n",
    ":class: important\n",
    "\n",
    "Before Python 3.9, you could not use the native types of list, tuple, dict, set, etc. to specify type hints of those types, you had to import equivalently named, but capitalized, classes from the `typing` module.\n",
    "\n",
    "So `symbols: list[str]` didn't work before python 3.9 and you instead had to do the following:\n",
    "\n",
    "`from typing import List`\n",
    "\n",
    "`symbols: List[str]`\n",
    "\n",
    "This chapter will explicitly mention BOTH ways to do it, as both are still valid as of Python 3.10. Later chapters will have a note at their start to alert the user about this, but otherwise will assume the >=Python 3.9 approach.\n",
    "```"
   ]
  },
  {
   "cell_type": "code",
   "execution_count": 17,
   "id": "e471e86c",
   "metadata": {},
   "outputs": [],
   "source": [
    "from typing import Union\n",
    "\n",
    "class Molecule:\n",
    "    def __init__(self, name: str, charge: Union[float, int], symbols: list[str], coordinates):\n",
    "        self.name = name\n",
    "        self.charge = charge\n",
    "        self.symbols = symbols\n",
    "        self.coordinates = coordinates\n",
    "        self.num_atom = len(symbols)\n",
    "\n",
    "    def __str__(self):\n",
    "        return f\"name: {self.name}\\ncharge: {self.charge}\\nsymbols: {self.symbols}\""
   ]
  },
  {
   "cell_type": "markdown",
   "id": "d1a87884",
   "metadata": {},
   "source": [
    "OR"
   ]
  },
  {
   "cell_type": "code",
   "execution_count": 21,
   "id": "13f246a7",
   "metadata": {},
   "outputs": [],
   "source": [
    "# Python <=3.8 compatible\n",
    "from typing import Union, List\n",
    "\n",
    "class Molecule:\n",
    "    def __init__(self, name: str, charge: Union[float, int], symbols: List[str], coordinates):\n",
    "        self.name = name\n",
    "        self.charge = charge\n",
    "        self.symbols = symbols\n",
    "        self.coordinates = coordinates\n",
    "        self.num_atom = len(symbols)\n",
    "\n",
    "    def __str__(self):\n",
    "        return f\"name: {self.name}\\ncharge: {self.charge}\\nsymbols: {self.symbols}\""
   ]
  },
  {
   "cell_type": "markdown",
   "id": "00554f6f",
   "metadata": {},
   "source": [
    "Just like with `Union`, when we use `list` as a type hint, we provide the arguments in square brackets `[]`. We have now specified that `symbols` is a \"list of strings\", and that list can be of any length. \n",
    "\n",
    "There is an important point to make about the difference between `list` and `tuple` as type hint. `list` are considered mutable ojects in Python, so in our example the `list[str]` hint indicates the \"list is of arbitrary length and every object is a string.\" Because of this, `list` only accepts one argument to its `[]`, and adding more will throw an error.\n",
    "\n",
    "<div class=\"question\">\n",
    "    <p class=\"question-title\">Heads Up Question</p>\n",
    "    <p> How would you specify multiple valid types for a <code>list</code> using compound types and what we've already covered?</p>\n",
    "</div>\n",
    "\n",
    "`tuple` is immutable in Python, so its length is fixed. That also means that the argument positions of `tuple`'s types hints are exact 1-to-1 matches to the elements of a `tuple`. Therefore: the number of arguments given to `tuple[...]` should match the `tuple`'s length."
   ]
  },
  {
   "cell_type": "code",
   "execution_count": 23,
   "id": "77de839c",
   "metadata": {},
   "outputs": [],
   "source": [
    "def some_function(my_tuple: tuple[str, int, float]):\n",
    "    pass\n",
    "\n",
    "# Python <=3.8 version\n",
    "from typing import Tuple\n",
    "def some_function(my_tuple: Tuple[str, int, float]):\n",
    "    pass"
   ]
  },
  {
   "cell_type": "markdown",
   "id": "88f22c58",
   "metadata": {},
   "source": [
    "This type hinting would indicate that `my_tuple` is length 3 and accepts a string, an integer, and a float; in that order.\n",
    "\n",
    "Finally, lets apply a type hint to `coordinates`, and lets actually define some dimensionality here. We noted back in CHAPTER_1_WAFFLES that the `coordinates` themselves are not the correct dimension to define multiple points in three dimensional space (without some reference). Instead, we want to specify 3 coordinates for an X,Y,Z system for each atom in the `symbols` list. The more-correct way would be to use a proper 2 dimensional shaped object like a `numpy` array, but for now let's think only in pure Python types. What we want is a list of an X,Y,Z coordinate for each atom, wrapped inside of another list.\n",
    "\n",
    "The Python types hint containers like `list`, `Union`, `tuple`, etc. can all contain other container types within, so it is perfectly valid to have something like a \"list of lists\". Let's assume that our nested lists follow this logic:\n",
    "\n",
    "* The outer list loops over atoms/symbols\n",
    "* The inner list containes the X, Y, Z coordinates of that specific atom/symbol\n",
    "* The coordinates themselves are `float`s.\n",
    "\n",
    "Give this logic, we can create a \"list of lists of floats\" type hint for `coordinates`. Let's also take this moment to actually wrap each argument on a new line for visual clarity."
   ]
  },
  {
   "cell_type": "code",
   "execution_count": 25,
   "id": "ebd36c89",
   "metadata": {},
   "outputs": [],
   "source": [
    "from typing import Union\n",
    "\n",
    "class Molecule:\n",
    "    def __init__(self, \n",
    "                 name: str, \n",
    "                 charge: Union[float, int], \n",
    "                 symbols: list[str], \n",
    "                 coordinates: list[list[float]]):\n",
    "        self.name = name\n",
    "        self.charge = charge\n",
    "        self.symbols = symbols\n",
    "        self.coordinates = coordinates\n",
    "        self.num_atom = len(symbols)\n",
    "\n",
    "    def __str__(self):\n",
    "        return f\"name: {self.name}\\ncharge: {self.charge}\\nsymbols: {self.symbols}\""
   ]
  },
  {
   "cell_type": "markdown",
   "id": "c6e9fcbe",
   "metadata": {},
   "source": [
    "OR"
   ]
  },
  {
   "cell_type": "code",
   "execution_count": 27,
   "id": "0b747bcd",
   "metadata": {},
   "outputs": [],
   "source": [
    "# Python <=3.8\n",
    "from typing import Union, List\n",
    "\n",
    "class Molecule:\n",
    "    def __init__(self, \n",
    "                 name: str, \n",
    "                 charge: Union[float, int], \n",
    "                 symbols: List[str], \n",
    "                 coordinates: List[List[float]]):\n",
    "        self.name = name\n",
    "        self.charge = charge\n",
    "        self.symbols = symbols\n",
    "        self.coordinates = coordinates\n",
    "        self.num_atom = len(symbols)\n",
    "\n",
    "    def __str__(self):\n",
    "        return f\"name: {self.name}\\ncharge: {self.charge}\\nsymbols: {self.symbols}\""
   ]
  },
  {
   "cell_type": "markdown",
   "id": "c4178a28",
   "metadata": {},
   "source": [
    "<div class=\"exercise\">\n",
    "    <p class=\"exercise-title\">Check Your Understanding</p>\n",
    "    <p>The Heads Up Question asked \"How would you specify multiple valid types for a <code>list</code> using compound types?\" Given that we now know container types can be in other types, what is the answer to this question?</p>\n",
    "\n",
    "    \n",
    "```{admonition} Solution\n",
    ":class: dropdown\n",
    "\n",
    "<p>Yopu will need to make a list of the union of float and int</p>\n",
    "    \n",
    "```python\n",
    "symbols: list[Union[float, int]]  # >=Python 3.9\n",
    "symbols: List[Union[float, int]]  # <=Python 3.8\n",
    "```\n",
    "</div>"
   ]
  },
  {
   "cell_type": "markdown",
   "id": "56db8b70",
   "metadata": {},
   "source": [
    "Type hints don't get in the way of default arguments either. You just assign the default after the hint like normal:"
   ]
  },
  {
   "cell_type": "code",
   "execution_count": 29,
   "id": "4f61c0df",
   "metadata": {},
   "outputs": [],
   "source": [
    "def __init__(self, \n",
    "             name: str = \"Some Name\"\n",
    "            ):\n",
    "    pass"
   ]
  },
  {
   "cell_type": "markdown",
   "id": "5338d5d9",
   "metadata": {},
   "source": [
    "## Non-enforcement and Duplicated Work\n",
    "\n",
    "We've seen the basics of type hints but there are some problems with them. Namely, they are just that: \"hints.\" There is no native enforcement of the hints, even if we were to feed in gibberish."
   ]
  },
  {
   "cell_type": "code",
   "execution_count": 32,
   "id": "615e0d20",
   "metadata": {},
   "outputs": [
    {
     "name": "stdout",
     "output_type": "stream",
     "text": [
      "name: typing.Union\n",
      "charge: {'A', 'D', 'g', 'B', 'f', 'e', 'C'}\n",
      "symbols: SOOOOOUUUPPPP!!!\n"
     ]
    }
   ],
   "source": [
    "# All the arguments are mangled\n",
    "water = Molecule(Union, set(\"ABCDefg\"), \"SOOOOOUUUPPPP!!!\", [0, 0, 0])\n",
    "print(water)"
   ]
  },
  {
   "cell_type": "markdown",
   "id": "68c45d1b",
   "metadata": {},
   "source": [
    "The IDE you are using might complain about some of the arguments because the type hinting suggests otherwise, but nothing stops you or anyone from feeding junk into the function. Sure, in a more complex code there would be a syntax error eventually, *maybe*, but on its face the hints are just that, for now.\n",
    "\n",
    "We've also been using this `Molecule` class to assign attributes of the same name as the arguments so we can use them later in code. This looks like a fair amount of duplicated work. Real molecule's, and their computational representation, could have dozens or hundereds of arguments or attributes to assign, and re-writting `self.attribute = attribute`-like lines over and over is tedius.\n",
    "\n",
    "In the next chapter, we will look at a native Python class decorator we can use to help reduce the duplication effort and make our code more legible. This will also help our understanding of the structure before we move onto validation and eventually `pydantic`."
   ]
  }
 ],
 "metadata": {
  "kernelspec": {
   "display_name": "Python 3 (ipykernel)",
   "language": "python",
   "name": "python3"
  },
  "language_info": {
   "codemirror_mode": {
    "name": "ipython",
    "version": 3
   },
   "file_extension": ".py",
   "mimetype": "text/x-python",
   "name": "python",
   "nbconvert_exporter": "python",
   "pygments_lexer": "ipython3",
   "version": "3.10.6"
  }
 },
 "nbformat": 4,
 "nbformat_minor": 5
}
