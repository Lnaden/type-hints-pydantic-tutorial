{
 "cells": [
  {
   "cell_type": "markdown",
   "id": "sufficient-suite",
   "metadata": {},
   "source": [
    "Objectives and Setup\n",
    "=================\n",
    "\n",
    "Python is a powerful programing language for getting things done, however, its very permissive acceptance of datum types to arguments and from data structures makes correctly programming around- and validating those data nebulous. This workshop is about annotating Python code to include information about data types for developers, users, and Integrated development Environments (IDEs) as well as validation of said data. You'll learn about the built in Python type hints for non-enforcable annotation, wrapping data structures into programable classes called a `dataclass`, manual validation of said data, and finally leveraging a powerful external library called [`pydantic`](https://pydantic-docs.helpmanual.io/) to automatically validate arbitrarily complex data structures through native type hints. \n",
    "\n",
    "In this workshop we will be using Jupyter notebooks, which you will be able to set up once you have installed Anaconda, however, this code is meant to be dyanmically interacted with and run. So, feel free to follow along in your own editor or IDE.\n",
    "\n",
    "\n",
    "## Installing Python through Anaconda\n",
    "[Python](https://python.org/) is a popular language for scientific computing, and great for general-purpose programming as well. Installing all of its scientific packages individually can be a bit difficult, however, so we recommend the all-in-one installer Anaconda.\n",
    "\n",
    "1. Navigate to the [download page](https://www.anaconda.com/products/individual) for Anaconda.\n",
    "2. Download the appropriate installer for your operating system. **Make sure you get the installer listed under Python 3** (not 2.7).\n",
    "3. Double click the installer icon and follow the set-up instructions, keeping most of the default options. If you are Windows, make sure to choose the option **Make Anaconda the default Python** during installation.\n",
    "\n",
    "\n",
    "\n",
    "## Obtain lesson materials\n",
    "1. Download the files needed for these lessons [here](https://github.com/MolSSI-Education/FIX_ME_WAFFLES).\n",
    "2. Create a folder called `types-and-pydantic` on your Desktop.\n",
    "3. Move the downloaded materials to the new folder.\n",
    "4. Unzip the file. \n",
    "\n",
    "\n",
    "### Using the Lesson Materials\n",
    "\n",
    "This is meant to be a dynamic, interactive workshop where you will be building, updating, and executing code in real time. Each chapter covers certain topics which are expanded and built upon in the next chapter. You will start with the BASIC_DYNAMIC_FILE_WAFFLES (which is a copy of the BASE_FILE_WAFFLES) in CHAPTER_1_WAFFLES, and eventually construct the CHAPTER_1_CONCLUSION_FILE_WAFFLES, which you can use as reference and to see the end-goal. CHAPTER_2_WAFFLES will pick up from CHAPTER_1_CONCLUSION_FILE_WAFFLES as a base, and eventually CHAPTER_2_CONCLUSION_FILE_WAFFLES, and so on. We encourage you to make a copy of the BASE_FILE_WAFFLES to follow along with the chapters of this workshop and build up so you can see where we started.\n",
    "\n",
    "Your files may look different depending on how you choose to approach the problems, and that's okay! The lesson material files are meant to serve as guides, not the sole correct answers. \n",
    "\n",
    "\n",
    "## Start a Jupyter notebook\n",
    "From Finder or Spotlight (Mac OS) or the Start Menu (Windows) find the Anaconda Navigator.  The icon looks like a green circle.  Click Launch under Jupyter Notebook (not JupyterLab).  It may take a few seconds to load the page, especially if it is the first time you have ever used the jupyter notebook, so don't panic if nothing loads for a few seconds.  Then a new window should open in your default internet browser. Use the file navigation window to navigate to `Desktop` and then to the `types-and-pydantic` folder.  In the upper right hand corner, click New, then choose Python 3 from the dropdown list (shown below)\n",
    "\n",
    "\n",
    "FIX_IMAGE_WAFFLES\n",
    "```{image} images/setup_figure_1.png\n",
    ":alt: set-up\n",
    ":align: center\n",
    "```\n",
    "\n",
    "This will start a new Jupyter notebook using Python 3. You're ready to go!\n",
    "\n"
   ]
  }
 ],
 "metadata": {
  "kernelspec": {
   "display_name": "Python 3 (ipykernel)",
   "language": "python",
   "name": "python3"
  },
  "language_info": {
   "codemirror_mode": {
    "name": "ipython",
    "version": 3
   },
   "file_extension": ".py",
   "mimetype": "text/x-python",
   "name": "python",
   "nbconvert_exporter": "python",
   "pygments_lexer": "ipython3",
   "version": "3.10.6"
  }
 },
 "nbformat": 4,
 "nbformat_minor": 5
}
