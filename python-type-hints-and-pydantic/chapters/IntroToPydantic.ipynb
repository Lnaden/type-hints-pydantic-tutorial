{
 "cells": [
  {
   "cell_type": "markdown",
   "id": "88f3ee4a",
   "metadata": {},
   "source": [
    "(ch04)=\n",
    "# Introcuction to Pydantic"
   ]
  },
  {
   "cell_type": "markdown",
   "id": "d3021b20",
   "metadata": {},
   "source": [
    "```{admonition} Starting File: <code>03_manual_valid_molecule.py</code>\n",
    ":class: important\n",
    "This chapter will start from the <code>03_manual_valid_molecule.py</code> and end on the <code>04_pydantic_molecule.py</code>.\n",
    "```\n",
    "\n",
    "Validating data is hard and time consuming to do by hand. The last chapter showed just how difficult it can be to do even simple validation. Furthermore, all of the type hints we've written and the `dataclass` decorator have been helpful for visually making the code more legible, but otherwise have not been really programtically helpful in doing validation.\n",
    "\n",
    "You'll be introduced to a powerful non-native library called *pydantic* in this chapter. A data validation and settings management tool which leverages existing Python type hints to handle validation for you. *pydantic* is not the only possible soultion out there for validation of Python data and schema, but it is a natural extension of the type hints and `dataclass` we've already discussed."
   ]
  },
  {
   "cell_type": "markdown",
   "id": "901c03b0",
   "metadata": {},
   "source": [
    "```{admonition} Check Out Pydantic\n",
    ":class: note\n",
    "We will not be covering all the capabilities of *pydantic* here, and we highly encourage you to visit [the pydantic docs](https://pydantic-docs.helpmanual.io/) to learn about all the powerful and easy-to-execute things *pydantic* can do.\n",
    "```"
   ]
  },
  {
   "cell_type": "markdown",
   "id": "17e314fe",
   "metadata": {},
   "source": [
    "```{admonition} Compatibility with Python 3.8 and below\n",
    ":class: note\n",
    "If you have Python 3.8 or below, you will need to import container type objects such as `List`, `Tuple`, `Dict`, etc. from the `typing` library instead of their native types of `list`, `tuple`, `dict`, etc. This chapter will assume Python 3.9 or greater, however, both approaches will work in >=Python 3.9 and have 1:1 replacements of the same name.\n",
    "```"
   ]
  },
  {
   "cell_type": "markdown",
   "id": "3b195380",
   "metadata": {},
   "source": [
    "## Pydantic's Main Object: BaseModel\n",
    "\n",
    "*pydantic* operates by modifying a class which looks and behaves similar to a `dataclass` object. However, it instead subclasses the *pydantic* object called `BaseModel` to do so. Let's start with our final `Molecule` object from {ref}`ch03`."
   ]
  },
  {
   "cell_type": "code",
   "execution_count": 1,
   "id": "2f2d7da0",
   "metadata": {},
   "outputs": [],
   "source": [
    "from dataclasses import dataclass\n",
    "from typing import Union\n",
    "\n",
    "# Type Helpers\n",
    "fi = Union[float, int]\n",
    "lfi = list[fi]\n",
    "tfi = tuple[fi, ...]\n",
    "inner = Union[lfi, tfi]\n",
    "lo = list[inner]\n",
    "tupo = tuple[inner, ...]\n",
    "\n",
    "\n",
    "@dataclass\n",
    "class Molecule:\n",
    "    name: str\n",
    "    charge: fi\n",
    "    symbols: Union[list[str], tuple[str, ...]]\n",
    "    coordinates: Union[lo, tupo]\n",
    "\n",
    "    def __post_init__(self):\n",
    "        # We'll validate the inputs here.\n",
    "        if not isinstance(self.name, str):\n",
    "            raise ValueError(f\"'name' must be a str, was {self.name}\")\n",
    "\n",
    "        if not (isinstance(self.charge, float) or isinstance(self.charge, int)):\n",
    "            raise ValueError(f\"'charge' must be a float or int, was {self.charge}\")\n",
    "\n",
    "        try:\n",
    "            if not (isinstance(self.symbols, list) or isinstance(self.symbols, tuple)):\n",
    "                raise TypeError\n",
    "            for content in self.symbols:  # Loop over elements\n",
    "                if not isinstance(content, str):  # Check content\n",
    "                    raise ValueError(content, type(content))\n",
    "        except TypeError as exec:  # Trap not iterable item\n",
    "            # This will throw if you can't iterate over self.symbols\n",
    "            raise ValueError(f\"'symbols' must be a list or tuple of string, was {type(self.symbols)}\") from exec\n",
    "        except ValueError as exec:  # Trap the content error\n",
    "            raise ValueError(f\"Each element of 'symbols' must be a string, was {exec.args[0]} of type {exec.args[1]}\") from exec\n",
    "\n",
    "        try:\n",
    "            if not (isinstance(self.coordinates, list) or isinstance(self.coordinates, tuple)):\n",
    "                raise TypeError\n",
    "            for inner in self.coordinates:  # Loop over elements\n",
    "                try:\n",
    "                    if not (isinstance(inner, list) or isinstance(inner, tuple)):\n",
    "                        raise TypeError\n",
    "                    for content in inner:  # Loop over elements\n",
    "                        if not (isinstance(content, int), isinstance(content, float)):  # Check content\n",
    "                            raise ValueError(content, type(content))\n",
    "                except TypeError as exec:  # Trap not iterable item\n",
    "                    # This will throw if you can't iterate over self.symbols\n",
    "                    raise ValueError(f\"'coordinates' inner elements must be a list or tuple of float/int, was {type(inner)}\") from exec\n",
    "                except ValueError as exec:  # Trap the content error\n",
    "                    raise ValueError(f\"Each inner element of 'coordinates' must be a string, was {exec.args[0]} of type {exec.args[1]}\") from exec\n",
    "        except TypeError as exec:  # Trap not iterable item\n",
    "            # This will throw if you can't iterate over self.symbols\n",
    "            raise ValueError(f\"'coordinates' must be a list or tuple of int/float, was {type(inner)}\") from exec\n",
    "        except ValueError as exec:  # Trap the content error\n",
    "            raise ValueError(f\"'coordinates' must be a list or tuple of int/float, however the following error was thrown: {exec}\") from exec\n",
    "\n",
    "    @property\n",
    "    def num_atoms(self):\n",
    "        return len(self.symbols)\n",
    "\n",
    "    def __str__(self):\n",
    "        return f\"name: {self.name}\\ncharge: {self.charge}\\nsymbols: {self.symbols}\""
   ]
  },
  {
   "cell_type": "code",
   "execution_count": 6,
   "id": "b4edc417",
   "metadata": {},
   "outputs": [],
   "source": [
    "mol_data = {  # Good data\n",
    "    \"coordinates\": [[0, 0, 0]], \n",
    "    \"symbols\": [\"H\", \"H\", \"O\"], \n",
    "    \"charge\": 0.0, \n",
    "    \"name\": \"water\"\n",
    "}\n",
    "\n",
    "bad_name = {\"name\": 789}  # Name is not str\n",
    "bad_charge = {\"charge\": [1, 0.0]}  # Charge is not int or float\n",
    "noniter_symbols = {\"symbols\": 1234567890}  # Symbols is an int\n",
    "nonlist_symbols = {\"symbols\": '[\"H\", \"H\", \"O\"]'}  # Symbols is a string (notably is a string-ified list)\n",
    "tuple_symbols = {\"symbols\": (\"H\", \"H\", \"O\")}  # Symbols as a tuple?\n",
    "bad_coords = {\"coordinates\": [\"1\", \"2\", \"3\"]}  # Coords is a single list of string\n",
    "bad_symbols_and_cords = {\"symbols\": [\"H\", \"H\", \"O\"],\n",
    "                         \"coordinates\": [[1, 1, 1], [2.0, 2.0, 2.0]]\n",
    "                        }  # Coordinates top-level list is not the same length as symbols"
   ]
  },
  {
   "cell_type": "markdown",
   "id": "3310fc3d",
   "metadata": {},
   "source": [
    "This was a fair amount of work to get it to this point from the original version. However, it has the problems of lots of manually written validation code, not actually doing anything with the type hints, and very quickly bloating up. Let's fix all of these problems one at a time.\n",
    "\n",
    "To start, lets convert our `Molecule` from a `dataclass` to a *pydantic* `BaseModel` by importing `BaseModel`, subclassing `BaseModel` into our `Molecule`, and removing the `dataclass` decorator. At this point we don't even need the `dataclasses` import, so lets remove it as well."
   ]
  },
  {
   "cell_type": "code",
   "execution_count": 10,
   "id": "0af64e9f",
   "metadata": {},
   "outputs": [],
   "source": [
    "from typing import Union\n",
    "\n",
    "from pydantic import BaseModel\n",
    "\n",
    "# Type Helpers\n",
    "fi = Union[float,int]\n",
    "lfi = list[fi]\n",
    "tfi = tuple[fi, ...]\n",
    "inner = Union[lfi, tfi]\n",
    "lo = list[inner]\n",
    "tupo = tuple[inner, ...]\n",
    "\n",
    "class Molecule(BaseModel):\n",
    "    name: str\n",
    "    charge: fi\n",
    "    symbols: Union[list[str], tuple[str, ...]]\n",
    "    coordinates: Union[lo, tupo]\n",
    "    \n",
    "    def __post_init__(self):\n",
    "        # We'll validate the inputs here.\n",
    "        if not isinstance(self.name, str):\n",
    "            raise ValueError(f\"'name' must be a str, was {self.name}\")\n",
    "            \n",
    "        if not (isinstance(self.charge, float) or isinstance(self.charge, int)):\n",
    "            raise ValueError(f\"'charge' must be a float or int, was {self.charge}\")\n",
    "            \n",
    "        try:\n",
    "            if not (isinstance(self.symbols, list) or isinstance(self.symbols, tuple)):\n",
    "                raise TypeError\n",
    "            for content in self.symbols:  # Loop over elements\n",
    "                if not isinstance(content, str):  # Check content\n",
    "                    raise ValueError(content, type(content))\n",
    "        except TypeError as exec:  # Trap not iterable item\n",
    "            # This will throw if you can't iterate over self.symbols\n",
    "            raise ValueError(f\"'symbols' must be a list or tuple of string, was {type(self.symbols)}\") from exec\n",
    "        except ValueError as exec:  # Trap the content error\n",
    "            raise ValueError(f\"Each element of 'symbols' must be a string, was {exec.args[0]} of type {exec.args[1]}\") from exec\n",
    "            \n",
    "        try:\n",
    "            if not (isinstance(self.coordinates, list) or isinstance(coordinates, tuple)):\n",
    "                raise TypeError\n",
    "            for inner in self.coordinates:  # Loop over elements\n",
    "                try:\n",
    "                    if not (isinstance(inner, list) or isinstance(inner, tuple)):\n",
    "                        raise TypeError\n",
    "                    for content in inner:  # Loop over elements\n",
    "                        if not (isinstance(content, int), isinstance(content, float)):  # Check content\n",
    "                            raise ValueError(content, type(content))\n",
    "                except TypeError as exec:  # Trap not iterable item\n",
    "                        # This will throw if you can't iterate over self.symbols\n",
    "                        raise ValueError(f\"'coordinates' inner elements must be a list or tuple of float/int, was {type(inner)}\") from exec\n",
    "                except ValueError as exec:  # Trap the content error\n",
    "                        raise ValueError(f\"Each inner element of 'coordinates' must be a string, was {exec.args[0]} of type {exec.args[1]}\") from exec\n",
    "        except TypeError as exec:  # Trap not iterable item\n",
    "                # This will throw if you can't iterate over self.symbols\n",
    "                raise ValueError(f\"'coordinates' must be a list or tuple of int/float, was {type(inner)}\") from exec\n",
    "        except ValueError as exec:  # Trap the content error\n",
    "                raise ValueError(f\"'coordinates' must be a list or tuple of int/float, however the following error was thrown: {exec}\") from exec\n",
    "        \n",
    "    @property\n",
    "    def num_atoms(self):\n",
    "        return len(self.symbols)\n",
    "        \n",
    "    def __str__(self):\n",
    "        return f\"name: {self.name}\\ncharge: {self.charge}\\nsymbols: {self.symbols}\""
   ]
  },
  {
   "cell_type": "markdown",
   "id": "67122cd3",
   "metadata": {},
   "source": [
    "Even though we have removed `dataclass` decorator from our code now, *pydantic* still structures its inputs much in the same way. `__init__` is handled from the class itself: assigning Class Attributes to Instance Attributes on call (and many other things, but that's beyond the scope of this workshop). Also like `dataclass`, you should not implement an `__init__` method as `BaseModel`. \n",
    "\n",
    "One main difference between how `BaseModel` and `dataclass` behave on initilization is that `BaseModel` does not accept arguments on a 1-to-1 match of listed Class Attributes. Anticipation of this change in behavior is one of the reasons we have been calling our `Molecule` by providing keyword arguments instead of positional arguments (and because its good practice for the reasons discussed in {ref}`ch02`)\n",
    "\n",
    "```{admonition} Dataclasses can work with Pydantic if you really want to\n",
    ":class: note\n",
    "Dataclasses and Pydantic are not mutually exclusive. Pydantic [provides a dataclass decorator](https://pydantic-docs.helpmanual.io/usage/dataclasses/) to nearly perfect mimic the native dataclass, but with all the extra validation pydantic provides.\n",
    "```\n",
    "\n",
    "Let's see what happens if we try to call this calss with no other modifications."
   ]
  },
  {
   "cell_type": "code",
   "execution_count": 11,
   "id": "c6d5a22b",
   "metadata": {},
   "outputs": [],
   "source": [
    "water = Molecule(**mol_data)"
   ]
  },
  {
   "cell_type": "markdown",
   "id": "b542e88c",
   "metadata": {},
   "source": [
    "Huzzah! It worked! But why? We have removed the `dataclass` decorator, but none of *our* validation code ran. `BaseModel` does not have a specialized single function to handle validation (we'll cover custom validation later), so the `__post_init__` function does not run; that was a special method of the `dataclass`. In fact, lets just delete the entire `__post_init__` method as we won't be needing it anymore. Let's also delete the `__str__` method as `BaseModel` provides its own."
   ]
  },
  {
   "cell_type": "code",
   "execution_count": 12,
   "id": "8df3c9ca",
   "metadata": {},
   "outputs": [],
   "source": [
    "from typing import Union\n",
    "\n",
    "from pydantic import BaseModel\n",
    "\n",
    "# Type Helpers\n",
    "fi = Union[float,int]\n",
    "lfi = list[fi]\n",
    "tfi = tuple[fi, ...]\n",
    "inner = Union[lfi, tfi]\n",
    "lo = list[inner]\n",
    "tupo = tuple[inner, ...]\n",
    "\n",
    "class Molecule(BaseModel):\n",
    "    name: str\n",
    "    charge: fi\n",
    "    symbols: Union[list[str], tuple[str, ...]]\n",
    "    coordinates: Union[lo, tupo]\n",
    "    \n",
    "        \n",
    "    @property\n",
    "    def num_atoms(self):\n",
    "        return len(self.symbols)"
   ]
  },
  {
   "cell_type": "markdown",
   "id": "223ad982",
   "metadata": {},
   "source": [
    "That looks simpler, so lets run our model through and actually take a look at the output from `print`."
   ]
  },
  {
   "cell_type": "code",
   "execution_count": 13,
   "id": "7bded4d6",
   "metadata": {},
   "outputs": [
    {
     "name": "stdout",
     "output_type": "stream",
     "text": [
      "name='water' charge=0.0 symbols=['H', 'H', 'O'] coordinates=[[0.0, 0.0, 0.0]]\n"
     ]
    }
   ],
   "source": [
    "water = Molecule(**mol_data)\n",
    "print(water)"
   ]
  },
  {
   "cell_type": "markdown",
   "id": "e22f2c97",
   "metadata": {},
   "source": [
    "You can see that *pydantic* provides is own comple representation of the data structure, including all its attributes. The model also allows accessing attributes like you would any class attribute as well."
   ]
  },
  {
   "cell_type": "code",
   "execution_count": 17,
   "id": "538308c7",
   "metadata": {},
   "outputs": [
    {
     "name": "stdout",
     "output_type": "stream",
     "text": [
      "water\n",
      "[[0.0, 0.0, 0.0]]\n"
     ]
    }
   ],
   "source": [
    "print(water.name)\n",
    "print(water.coordinates)"
   ]
  },
  {
   "cell_type": "markdown",
   "id": "e97ce8dc",
   "metadata": {},
   "source": [
    "*pydantic* also provides a few built-in methods for quick exporting of models to other data structures like dictionaries and JSON strings."
   ]
  },
  {
   "cell_type": "code",
   "execution_count": 18,
   "id": "f52be146",
   "metadata": {},
   "outputs": [
    {
     "data": {
      "text/plain": [
       "{'name': 'water',\n",
       " 'charge': 0.0,\n",
       " 'symbols': ['H', 'H', 'O'],\n",
       " 'coordinates': [[0.0, 0.0, 0.0]]}"
      ]
     },
     "execution_count": 18,
     "metadata": {},
     "output_type": "execute_result"
    }
   ],
   "source": [
    "water.dict()"
   ]
  },
  {
   "cell_type": "code",
   "execution_count": 19,
   "id": "b0fd0912",
   "metadata": {},
   "outputs": [
    {
     "data": {
      "text/plain": [
       "'{\"name\": \"water\", \"charge\": 0.0, \"symbols\": [\"H\", \"H\", \"O\"], \"coordinates\": [[0.0, 0.0, 0.0]]}'"
      ]
     },
     "execution_count": 19,
     "metadata": {},
     "output_type": "execute_result"
    }
   ],
   "source": [
    "water.json()"
   ]
  },
  {
   "cell_type": "markdown",
   "id": "7f1f7217",
   "metadata": {},
   "source": [
    "Here is where *pydantic* helps us. Because this is a `BaseModel`, our type hints are no longer *hints*, they are *mandates*. Let's show that by feeding in invalid data."
   ]
  },
  {
   "cell_type": "code",
   "execution_count": 20,
   "id": "e23292fc",
   "metadata": {},
   "outputs": [
    {
     "ename": "ValidationError",
     "evalue": "14 validation errors for Molecule\ncharge\n  value is not a valid float (type=type_error.float)\ncharge\n  value is not a valid integer (type=type_error.integer)\ncoordinates -> 0\n  value is not a valid list (type=type_error.list)\ncoordinates -> 0\n  value is not a valid tuple (type=type_error.tuple)\ncoordinates -> 1\n  value is not a valid list (type=type_error.list)\ncoordinates -> 1\n  value is not a valid tuple (type=type_error.tuple)\ncoordinates -> 2\n  value is not a valid list (type=type_error.list)\ncoordinates -> 2\n  value is not a valid tuple (type=type_error.tuple)\ncoordinates -> 0\n  value is not a valid list (type=type_error.list)\ncoordinates -> 0\n  value is not a valid tuple (type=type_error.tuple)\ncoordinates -> 1\n  value is not a valid list (type=type_error.list)\ncoordinates -> 1\n  value is not a valid tuple (type=type_error.tuple)\ncoordinates -> 2\n  value is not a valid list (type=type_error.list)\ncoordinates -> 2\n  value is not a valid tuple (type=type_error.tuple)",
     "output_type": "error",
     "traceback": [
      "\u001b[0;31m---------------------------------------------------------------------------\u001b[0m",
      "\u001b[0;31mValidationError\u001b[0m                           Traceback (most recent call last)",
      "Input \u001b[0;32mIn [20]\u001b[0m, in \u001b[0;36m<cell line: 2>\u001b[0;34m()\u001b[0m\n\u001b[1;32m      1\u001b[0m mangle \u001b[38;5;241m=\u001b[39m {\u001b[38;5;241m*\u001b[39m\u001b[38;5;241m*\u001b[39mmol_data, \u001b[38;5;241m*\u001b[39m\u001b[38;5;241m*\u001b[39mbad_name, \u001b[38;5;241m*\u001b[39m\u001b[38;5;241m*\u001b[39mbad_charge, \u001b[38;5;241m*\u001b[39m\u001b[38;5;241m*\u001b[39mbad_coords}\n\u001b[0;32m----> 2\u001b[0m water \u001b[38;5;241m=\u001b[39m \u001b[43mMolecule\u001b[49m\u001b[43m(\u001b[49m\u001b[38;5;241;43m*\u001b[39;49m\u001b[38;5;241;43m*\u001b[39;49m\u001b[43mmangle\u001b[49m\u001b[43m)\u001b[49m\n",
      "File \u001b[0;32m~/miniconda3/envs/pyd-tut/lib/python3.10/site-packages/pydantic/main.py:341\u001b[0m, in \u001b[0;36mpydantic.main.BaseModel.__init__\u001b[0;34m()\u001b[0m\n",
      "\u001b[0;31mValidationError\u001b[0m: 14 validation errors for Molecule\ncharge\n  value is not a valid float (type=type_error.float)\ncharge\n  value is not a valid integer (type=type_error.integer)\ncoordinates -> 0\n  value is not a valid list (type=type_error.list)\ncoordinates -> 0\n  value is not a valid tuple (type=type_error.tuple)\ncoordinates -> 1\n  value is not a valid list (type=type_error.list)\ncoordinates -> 1\n  value is not a valid tuple (type=type_error.tuple)\ncoordinates -> 2\n  value is not a valid list (type=type_error.list)\ncoordinates -> 2\n  value is not a valid tuple (type=type_error.tuple)\ncoordinates -> 0\n  value is not a valid list (type=type_error.list)\ncoordinates -> 0\n  value is not a valid tuple (type=type_error.tuple)\ncoordinates -> 1\n  value is not a valid list (type=type_error.list)\ncoordinates -> 1\n  value is not a valid tuple (type=type_error.tuple)\ncoordinates -> 2\n  value is not a valid list (type=type_error.list)\ncoordinates -> 2\n  value is not a valid tuple (type=type_error.tuple)"
     ]
    }
   ],
   "source": [
    "mangle = {**mol_data, **bad_name, **bad_charge, **bad_coords}\n",
    "water = Molecule(**mangle)"
   ]
  },
  {
   "cell_type": "markdown",
   "id": "21df5305",
   "metadata": {},
   "source": [
    "A new type of error has been thrown. The `ValidationError` is a custom error that *pydantic* will throw when you try to insert data which does not adhere to the typing assigned to it via the type annotation.\n",
    "\n",
    "```{admonition} Type Hints No More\\!\n",
    ":class: note\n",
    "We will be calling the *pydantic*'s use of type \"type annotations\" because, although they are still technically a \"type hint,\" they are no longer hints.\n",
    "```\n",
    "\n",
    "*pydantic* reads the type annotations assigned to the variables, and then validates the incoming arguments against those types. Because we made sure we were thorough enough with our type hints last chapter, our type annotations correctly capture the correct data.\n",
    "\n",
    "We also now have simultanious validation of multiple entries. In {ref}`ch03`, our validation code would throw the first error it found, without validating everything else. Here, *pydantic* is validating everything all at once, and raising it at the end.\n",
    "\n",
    "Reading the `ValidationError` output takes some getting used to, but once you recognize it, you can understand.\n",
    "\n",
    "### Reading the Validation error\n",
    "\n",
    "```python\n",
    "charge\n",
    "  value is not a valid float (type=type_error.float)\n",
    "charge\n",
    "  value is not a valid integer (type=type_error.integer)\n",
    "```\n",
    "\n",
    "Here `charge` is the attribute and its `value` is not a valid type of `float`. On the next line, `charge` is also an error because its not an `int`. *pydantic* treats `Union` types as an either or and validates them sepratley, accepting whichever one comes first.\n",
    "\n",
    "```python\n",
    "coordinates -> 0\n",
    "  value is not a valid list (type=type_error.list)\n",
    "coordinates -> 1\n",
    "  value is not a valid list (type=type_error.list)\n",
    "```\n",
    "\n",
    "`coordinates` is the attribute that did not recieve valid data. `-> 0` indicates that at index `0` of `coordinates`, the validator was expecting a `list` but did not get one. `-> 1` on the next entry specifies index `1` of `coordinates` was also not a `list`."
   ]
  },
  {
   "cell_type": "markdown",
   "id": "097f4658",
   "metadata": {},
   "source": [
    "## Data Coersion\n",
    "\n",
    "*pydantic* has already helped us simplify our code by providing type checking, but let's simplify further by reducing our type annotation complexity and seeing what *pydantic* does to some invalid types. \n",
    "\n",
    "For starters, lets assume `charge` can only be a float. Right now `charge` accepts `float` or `int`, and because it does, we can see that *pydantic* SHOULD show a different output depending on what type we give it."
   ]
  },
  {
   "cell_type": "code",
   "execution_count": 33,
   "id": "79eb5b71",
   "metadata": {},
   "outputs": [
    {
     "name": "stdout",
     "output_type": "stream",
     "text": [
      "<class 'int'>\n",
      "<class 'float'>\n"
     ]
    }
   ],
   "source": [
    "int_charge = {**mol_data, **{\"charge\": 0}}\n",
    "float_charge = {**mol_data, **{\"charge\": -1.5}}  # Value that can't be int.\n",
    "print(type(int_charge[\"charge\"]))\n",
    "print(type(float_charge[\"charge\"]))"
   ]
  },
  {
   "cell_type": "code",
   "execution_count": 31,
   "id": "f223c4ba",
   "metadata": {},
   "outputs": [
    {
     "name": "stdout",
     "output_type": "stream",
     "text": [
      "Integer water has value 0.0 and type <class 'float'>\n",
      "Float water has value -1.5 and type <class 'float'>\n"
     ]
    }
   ],
   "source": [
    "int_water = Molecule(**int_charge)\n",
    "float_water = Molecule(**float_charge)\n",
    "print(f\"Integer water has value {int_water.charge} and type {type(int_water.charge)}\")\n",
    "print(f\"Float water has value {float_water.charge} and type {type(float_water.charge)}\")"
   ]
  },
  {
   "cell_type": "markdown",
   "id": "078dc46d",
   "metadata": {},
   "source": [
    "Uh-oh. What happened? We expcted to get an `int` out of the `int_water` object, but instead got a `float`. The reason for this is *pydantic* does what is called \"data coercion\" based on the the type annotations you provide.\n",
    "\n",
    "Data coercion is the process of molding and shaping data to adhere to certain rules. In this case, the `int` was coerced by casting it to a `float` before being stored. The question you may ask is \"why did *pydantic* do that if it can accept both `float` or `int`?\" And the answer has to do with the *order* we provided the type annotations. Take a look at our first type helpers."
   ]
  },
  {
   "cell_type": "code",
   "execution_count": 27,
   "id": "f672117a",
   "metadata": {},
   "outputs": [],
   "source": [
    "# Type Helpers\n",
    "fi = Union[float,int]"
   ]
  },
  {
   "cell_type": "markdown",
   "id": "070da9b3",
   "metadata": {},
   "source": [
    "We specfied that `float` was first and `int` was second. From a pure set theory standpoint, order should not mater, but *pydantic* does respect the order of its types. Down at a code level, *pydantic* is doing a few things. Here is a simplified list\n",
    "\n",
    "1. Handle pre-validators (covered later {ref}`ch05`)\n",
    "2. Attempt to coerce data through first type annotation encoutered\n",
    "3. Accept coersion if no error is thrown\n",
    "4. Try next type annotation if present\n",
    "5. Repeat 2-4 until resolved or error thrown with no resolution\n",
    "6. Handle user validators (covered later {ref}`ch05`)\n",
    "\n",
    "Because we specified `float` first, the `int` was cast to a `float` and accepted. We could reverse the order and try again to see what happens:"
   ]
  },
  {
   "cell_type": "code",
   "execution_count": 28,
   "id": "34778574",
   "metadata": {},
   "outputs": [],
   "source": [
    "class IntThenFloatMolecule(Molecule):  # Subclass our defined model to inherit attributes\n",
    "    charge: Union[int, float]"
   ]
  },
  {
   "cell_type": "code",
   "execution_count": 34,
   "id": "305baaea",
   "metadata": {},
   "outputs": [
    {
     "name": "stdout",
     "output_type": "stream",
     "text": [
      "Integer water has value 0 and type <class 'int'>\n",
      "Float water has value -1 and type <class 'int'>\n"
     ]
    }
   ],
   "source": [
    "int_water = IntThenFloatMolecule(**int_charge)\n",
    "float_water = IntThenFloatMolecule(**float_charge)\n",
    "print(f\"Integer water has value {int_water.charge} and type {type(int_water.charge)}\")\n",
    "print(f\"Float water has value {float_water.charge} and type {type(float_water.charge)}\")"
   ]
  },
  {
   "cell_type": "markdown",
   "id": "40950ad3",
   "metadata": {},
   "source": [
    "We have now lost information from the coercion. However, *pydantic* did exactly what it was told. The lesson here is that it is better to be permissive where possible. Since `float` will ensure we don't have data loss for a field which can accept both.\n",
    "\n",
    "```{admonition} Don't like something? Config it\n",
    ":class: note\n",
    "Pydantic's BaseModels are highly configurable through a class you can create in any model called Config. Some configurations will be shown later, but you can always [check the pydantic Config docs](https://pydantic-docs.helpmanual.io/usage/model_config/) for more things you can do. Changing this specific <code>Union</code> behavior is a setting called \"Smart Union\".\n",
    "```"
   ]
  },
  {
   "cell_type": "code",
   "execution_count": 35,
   "id": "a1d5917a",
   "metadata": {},
   "outputs": [],
   "source": [
    "from typing import Union\n",
    "\n",
    "from pydantic import BaseModel\n",
    "\n",
    "# Type Helpers\n",
    "fi = Union[float,int]\n",
    "lfi = list[fi]\n",
    "tfi = tuple[fi, ...]\n",
    "inner = Union[lfi, tfi]\n",
    "lo = list[inner]\n",
    "tupo = tuple[inner, ...]\n",
    "\n",
    "class Molecule(BaseModel):\n",
    "    name: str\n",
    "    charge: float\n",
    "    symbols: list[str]\n",
    "    coordinates: Union[lo, tupo]\n",
    "    \n",
    "        \n",
    "    @property\n",
    "    def num_atoms(self):\n",
    "        return len(self.symbols)"
   ]
  },
  {
   "cell_type": "markdown",
   "id": "ecdaff82",
   "metadata": {},
   "source": [
    "We've simplfied some of our type hints now. One of the other changes we've made is setting `symbols` to a list of string instead of accepting either `list` or `tuple`."
   ]
  },
  {
   "cell_type": "markdown",
   "id": "ed89f395",
   "metadata": {},
   "source": [
    "<div class=\"exercise\">\n",
    "<p class=\"exercise-title\"> Practice simplifying type annotations with coersion\n",
    "    <p>What would the simplified type annotation of <code>coordinates</code> be?</p>\n",
    "\n",
    "```{admonition} Solution:\n",
    ":class: dropdown\n",
    "Either one of the following\n",
    "```python\n",
    "coordinates: list[list[float]]\n",
    "coordinates: list[list[Union[float, int]]\n",
    "```\n",
    "    \n",
    "```{admonition} Incorrect Answer:\n",
    ":class: dropdown\n",
    "This option is wrong because it will cast floats to integers by default, which is bad unless you are on a discrete grid of coordinates.\n",
    "```python\n",
    "coordinates: list[list[Union[int, float]]\n",
    "```\n",
    "\n",
    "</div>"
   ]
  },
  {
   "cell_type": "markdown",
   "id": "5dbc2899",
   "metadata": {},
   "source": [
    "## Preparing for Custom Validation"
   ]
  },
  {
   "cell_type": "code",
   "execution_count": 2,
   "id": "66f1b60c",
   "metadata": {},
   "outputs": [],
   "source": [
    "from pydantic import BaseModel\n",
    "\n",
    "\n",
    "class Molecule(BaseModel):\n",
    "    name: str\n",
    "    charge: float\n",
    "    symbols: list[str]\n",
    "    coordinates: list[list[float]]\n",
    "\n",
    "    @property\n",
    "    def num_atoms(self):\n",
    "        return len(self.symbols)"
   ]
  },
  {
   "cell_type": "markdown",
   "id": "4549fcfc",
   "metadata": {},
   "source": [
    "Above is our final code for this chapter and is the code in `04_pydantic_molecule.py`. We've converted our original code to a type validated model which is easy to read. We did this by leverging the power of the *pydantic* module, but through the process of understanding type hints, and then `dataclasses` structure native to Python. \n",
    "\n",
    "Next chapter we'll cover doing so much more with *pydantic* (and yet still so little of what it can), focusing on writting validator's beyond simple type checks."
   ]
  }
 ],
 "metadata": {
  "kernelspec": {
   "display_name": "Python 3 (ipykernel)",
   "language": "python",
   "name": "python3"
  },
  "language_info": {
   "codemirror_mode": {
    "name": "ipython",
    "version": 3
   },
   "file_extension": ".py",
   "mimetype": "text/x-python",
   "name": "python",
   "nbconvert_exporter": "python",
   "pygments_lexer": "ipython3",
   "version": "3.10.6"
  }
 },
 "nbformat": 4,
 "nbformat_minor": 5
}
