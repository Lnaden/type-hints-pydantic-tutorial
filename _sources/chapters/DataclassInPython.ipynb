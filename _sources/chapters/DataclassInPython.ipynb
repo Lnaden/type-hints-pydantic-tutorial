{
 "cells": [
  {
   "cell_type": "markdown",
   "id": "81f0768d",
   "metadata": {},
   "source": [
    "(ch02)=\n",
    "# Dataclasses In Python"
   ]
  },
  {
   "cell_type": "markdown",
   "id": "1c09a848",
   "metadata": {},
   "source": [
    "```{admonition} Starting File: <code>01_typed_molecule.py</code>\n",
    ":class: important\n",
    "This chapter will start from the <code>01_typed_molecule.py</code> and end on the <code>02_dataclass_molecule.py</code>.\n",
    "```\n",
    "\n",
    "We so far have looked at type hints in Python and how to apply them to arguments. Thus far, they have served as a tool for annotating arguments for developers, users, and IDE's to give some clue as to what types of data can or should be provided to an argument. \n",
    "\n",
    "This chapter, we will continue with type hints, but also consider data restructuring of our sample `Molecule` class to reduce duplication of work, and make extension of these data containers (primarily) much easier.\n",
    "\n",
    "## Dataclass: Simplified Data Containers\n",
    "\n",
    "Typing out attribute assignments in the `__init__` of a class to the same name as the argument variable is a very common use case, especially in scientific computing. It is so common to do this argument-to-attribute-of-the-same-name operation that Python provides a built-in library called `dataclasses` to do it for you. Let us first look again at where our `Molecule` code was left from the previous chapter. This will serve as our starting point here.\n",
    "\n",
    "```{admonition} Compatibility with Python 3.8 and below\n",
    ":class: note\n",
    "If you have Python 3.8 or below, you will need to import container type objects such as `List`, `Tuple`, `Dict`, etc. from the `typing` library instead of their native types of `list`, `tuple`, `dict`, etc. This chapter will assume Python 3.9 or greater, however, both approaches will work in >=Python 3.9 and have 1:1 replacements of the same name.\n",
    "```"
   ]
  },
  {
   "cell_type": "code",
   "execution_count": 1,
   "id": "fb616e41",
   "metadata": {},
   "outputs": [],
   "source": [
    "from typing import Union\n",
    "\n",
    "class Molecule:\n",
    "    def __init__(self, \n",
    "                 name: str, \n",
    "                 charge: Union[float, int], \n",
    "                 symbols: list[str], \n",
    "                 coordinates: list[list[float]]):\n",
    "        self.name = name\n",
    "        self.charge = charge\n",
    "        self.symbols = symbols\n",
    "        self.coordinates = coordinates\n",
    "        self.num_atom = len(symbols)\n",
    "\n",
    "    def __str__(self):\n",
    "        return f\"name: {self.name}\\ncharge: {self.charge}\\nsymbols: {self.symbols}\""
   ]
  },
  {
   "cell_type": "code",
   "execution_count": 2,
   "id": "59e8282e",
   "metadata": {},
   "outputs": [
    {
     "name": "stdout",
     "output_type": "stream",
     "text": [
      "name: water\n",
      "charge: 0.0\n",
      "symbols: ['H', 'H', 'O']\n"
     ]
    }
   ],
   "source": [
    "water = Molecule(\"water\", 0.0, [\"H\", \"H\", \"O\"], [[0, 0, 0]])\n",
    "print(water)"
   ]
  },
  {
   "cell_type": "markdown",
   "id": "c8cf2746",
   "metadata": {},
   "source": [
    "We're going to reduce the amount of effort we have to commit to writing out our `Molecule` constructor. In fact, we're not going to write it at all! Above is the `Molecule` class as we left it last chapter, and a quick construct of `water` with its output, we'll use that later to compare that we in fact do have the same output. Let's get rid of the semi-duplicated code entirely now. From the native Python library `dataclasses`, we are going to import the `dataclass` object."
   ]
  },
  {
   "cell_type": "code",
   "execution_count": 3,
   "id": "2a5c9c60",
   "metadata": {},
   "outputs": [],
   "source": [
    "from dataclasses import dataclass"
   ]
  },
  {
   "cell_type": "markdown",
   "id": "0247347f",
   "metadata": {},
   "source": [
    "The `dataclass` object is a decorator that decorates *an entire class*. You might be used to decorators for functions within classes such as the `@propery` or the `@classmethod` decorators; or you might have seen the `@contextlib.contextmanager` decorator for allowing functions to operate from a `with` statement. This `dataclass` decorator works the same way, it just wraps around an entire class and we us it like any other decorator."
   ]
  },
  {
   "cell_type": "code",
   "execution_count": 4,
   "id": "85573f47",
   "metadata": {},
   "outputs": [
    {
     "name": "stdout",
     "output_type": "stream",
     "text": [
      "name: water\n",
      "charge: 0.0\n",
      "symbols: ['H', 'H', 'O']\n"
     ]
    }
   ],
   "source": [
    "@dataclass\n",
    "class Molecule:\n",
    "    def __init__(self, \n",
    "                 name: str, \n",
    "                 charge: Union[float, int], \n",
    "                 symbols: list[str], \n",
    "                 coordinates: list[list[float]]):\n",
    "        self.name = name\n",
    "        self.charge = charge\n",
    "        self.symbols = symbols\n",
    "        self.coordinates = coordinates\n",
    "        self.num_atom = len(symbols)\n",
    "\n",
    "    def __str__(self):\n",
    "        return f\"name: {self.name}\\ncharge: {self.charge}\\nsymbols: {self.symbols}\"\n",
    "\n",
    "water = Molecule(\"water\", 0.0, [\"H\", \"H\", \"O\"], [[0, 0, 0]])\n",
    "print(water)"
   ]
  },
  {
   "cell_type": "markdown",
   "id": "cbcc2309",
   "metadata": {},
   "source": [
    "On its face, it does not look like it did anything, and that is because we still have the `__init__` defined. `@dataclass` wraps the class it's decorating and provides its own `__init__` statement that does not need to be written out. What it's expecting is to read the *class attributes* of the defined class, and then do the attribute-to-variable assignment under its `__init__`. If you're unfamiliar with the difference between *class* and *instance* attributes, take a look at the following code:"
   ]
  },
  {
   "cell_type": "code",
   "execution_count": 5,
   "id": "814ae554",
   "metadata": {},
   "outputs": [
    {
     "name": "stdout",
     "output_type": "stream",
     "text": [
      "Class Attribute: 5\n",
      "No instance attribute called inst_attr2\n",
      "Class Attribute: 5\n",
      "Instance Attribute: 6\n"
     ]
    }
   ],
   "source": [
    "class ShowAtters:\n",
    "    # Class attributes defined at equal level as the def statements for class functions.\n",
    "    class_attr1: str\n",
    "    class_attr2: int = 5\n",
    "        \n",
    "    def __init__(self, inst_attr1: str, inst_attr2: int = 6):\n",
    "        # Instance attributes defined either during or after initialization (of instance).\n",
    "        self.inst_attr1 = inst_attr1\n",
    "        self.inst_attr2 = inst_attr2\n",
    "\n",
    "# Class attributes accessible without instantiating the class. Instance Attributes are not\n",
    "print(f\"Class Attribute: {ShowAtters.class_attr2}\")\n",
    "try:\n",
    "    print(f\"Instance Attribute: {ShowAtters.inst_attr2}\")\n",
    "except AttributeError:\n",
    "    print(\"No instance attribute called inst_attr2\")\n",
    "    \n",
    "# After instancing, class and instances attributes available\n",
    "show = ShowAtters(\"something\")\n",
    "print(f\"Class Attribute: {show.class_attr2}\")\n",
    "print(f\"Instance Attribute: {show.inst_attr2}\")"
   ]
  },
  {
   "cell_type": "markdown",
   "id": "c33f6fcf",
   "metadata": {},
   "source": [
    "The `dataclass` decorator reads the class attributes and assigns those attributes variables of the same name on calling the class, taking the same argument order as the attribute appears. In practice, you mainly just have to take your variable arguments and turn them into class attributes; type hints, defaults and all. This completely takes over the `__init__` process and reduces the amount of coding you need. Let's try it now:"
   ]
  },
  {
   "cell_type": "code",
   "execution_count": 6,
   "id": "56f0318a",
   "metadata": {},
   "outputs": [],
   "source": [
    "@dataclass\n",
    "class Molecule:\n",
    "    name: str\n",
    "    charge: Union[float, int]\n",
    "    symbols: list[str]\n",
    "    coordinates: list[list[float]]\n",
    "        \n",
    "    def __str__(self):\n",
    "        return f\"name: {self.name}\\ncharge: {self.charge}\\nsymbols: {self.symbols}\""
   ]
  },
  {
   "cell_type": "markdown",
   "id": "a635d869",
   "metadata": {},
   "source": [
    "And to prove that this does have the same output as before:"
   ]
  },
  {
   "cell_type": "code",
   "execution_count": 7,
   "id": "281b2c4f",
   "metadata": {},
   "outputs": [
    {
     "name": "stdout",
     "output_type": "stream",
     "text": [
      "name: water\n",
      "charge: 0.0\n",
      "symbols: ['H', 'H', 'O']\n"
     ]
    }
   ],
   "source": [
    "water = Molecule(\"water\", 0.0, [\"H\", \"H\", \"O\"], [[0, 0, 0]])\n",
    "print(water)"
   ]
  },
  {
   "cell_type": "markdown",
   "id": "08b5a757",
   "metadata": {},
   "source": [
    "Beyond the change to the initialization, everything still behaves the same as a normal class. Additional functions, properties, attributes, etc. can all be applied as normal. Let's apply that principle to bring back the `num_atoms` property, and bring our `Molecule` class to the form we want it in for the end of this chapter."
   ]
  },
  {
   "cell_type": "code",
   "execution_count": 8,
   "id": "90da860e",
   "metadata": {},
   "outputs": [],
   "source": [
    "from dataclasses import dataclass\n",
    "from typing import Union\n",
    "\n",
    "\n",
    "@dataclass\n",
    "class Molecule:\n",
    "    name: str\n",
    "    charge: Union[float, int]\n",
    "    symbols: list[str]\n",
    "    coordinates: list[list[float]]\n",
    "        \n",
    "    @property\n",
    "    def num_atoms(self):\n",
    "        return len(self.symbols)\n",
    "        \n",
    "    def __str__(self):\n",
    "        return f\"name: {self.name}\\ncharge: {self.charge}\\nsymbols: {self.symbols}\""
   ]
  },
  {
   "cell_type": "markdown",
   "id": "6e2ecd76",
   "metadata": {},
   "source": [
    "## Sane Input Handling"
   ]
  },
  {
   "cell_type": "markdown",
   "id": "ee267a62",
   "metadata": {},
   "source": [
    "You might consider with the `dataclass` that there is no longer as clear of the delineation between the order of arguments that you feed into the `Molecule` constructor and the order to the actual how they get assigned in the class. Yes, it does still assign it in the order arguments were provided, but there are only 4 items here, and the  order that data are received is ambiguous. Take the case here: representation of molecules in various file formats across different programs may not always be the same. You shouldn't expect to always get some arbitrary `name` of the molecule as the first thing out of the file, or the first argument that comes into your program depending on  whatever source  is providing the data: a file on disk, an API call from the web, some user just typing things in a script to access your program. What happens if someone, for example, makes the first argument `charge`, the second argument a string, and reverses the 3rd and 4th arguments like so:"
   ]
  },
  {
   "cell_type": "code",
   "execution_count": 9,
   "id": "64c141be",
   "metadata": {},
   "outputs": [
    {
     "name": "stdout",
     "output_type": "stream",
     "text": [
      "name: 0.0\n",
      "charge: water\n",
      "symbols: [[0, 0, 0]]\n"
     ]
    }
   ],
   "source": [
    "water = Molecule(0.0, \"water\", [[0, 0, 0]], [\"H\", \"H\", \"O\"])\n",
    "print(water)"
   ]
  },
  {
   "cell_type": "markdown",
   "id": "0807b54d",
   "metadata": {},
   "source": [
    "Technically, nothing broke here because Python looked at this and just cast everything to the matching order of variables because of duck typing. The Python interpreter is going to assume the programmer will do something useful with it, or will crash when it hits a syntax error.\n",
    "\n",
    "We strongly recommend you start relying on keyword arguments to your constructor for a `dataclass` to remove ambiguity. We especially recommend this as more complex data structures are encountered; maybe there are tens or hundreds of properties you could store here (consider all the data a real molecule could contain). Just like normal keyword arguments for function definitions, the keyword arguments for a `dataclass` match the name of the variable defined in the class attributes."
   ]
  },
  {
   "cell_type": "code",
   "execution_count": 10,
   "id": "3a5bd048",
   "metadata": {},
   "outputs": [
    {
     "name": "stdout",
     "output_type": "stream",
     "text": [
      "name: water\n",
      "charge: 0.0\n",
      "symbols: ['H', 'H', 'O']\n"
     ]
    }
   ],
   "source": [
    "water = Molecule(name=\"water\", charge=0.0, symbols=[\"H\", \"H\", \"O\"], coordinates=[[0, 0, 0]])\n",
    "print(water)"
   ]
  },
  {
   "cell_type": "markdown",
   "id": "ab2a9316",
   "metadata": {},
   "source": [
    "Now it doesn't matter what order the information is provided, everything will be assigned correctly."
   ]
  },
  {
   "cell_type": "code",
   "execution_count": 11,
   "id": "6b8dfaac",
   "metadata": {},
   "outputs": [
    {
     "name": "stdout",
     "output_type": "stream",
     "text": [
      "name: water\n",
      "charge: 0.0\n",
      "symbols: ['H', 'H', 'O']\n"
     ]
    }
   ],
   "source": [
    "water = Molecule(coordinates=[[0, 0, 0]], symbols=[\"H\", \"H\", \"O\"], charge=0.0, name=\"water\")\n",
    "print(water)"
   ]
  },
  {
   "cell_type": "markdown",
   "id": "0f9dbed0",
   "metadata": {},
   "source": [
    "The other major sane input handling conversion you should consider is providing data as a dictionary, that then passes to keyword arguments. This is a very common case as you might expect data much more frequently brought in from external sources and are loaded in as some key-value format like a Python dictionary, JSON, YAML, TOML, or any other type of data that you could possibly think of. In any case, it's probably not as native Python types."
   ]
  },
  {
   "cell_type": "code",
   "execution_count": 12,
   "id": "9d2a7753",
   "metadata": {},
   "outputs": [],
   "source": [
    "mol_data = {\n",
    "    \"coordinates\": [[0, 0, 0]], \n",
    "    \"symbols\": [\"H\", \"H\", \"O\"], \n",
    "    \"charge\": 0.0, \n",
    "    \"name\": \"water\"\n",
    "}"
   ]
  },
  {
   "cell_type": "code",
   "execution_count": 13,
   "id": "c77b1759",
   "metadata": {},
   "outputs": [
    {
     "name": "stdout",
     "output_type": "stream",
     "text": [
      "name: water\n",
      "charge: 0.0\n",
      "symbols: ['H', 'H', 'O']\n"
     ]
    }
   ],
   "source": [
    "water = Molecule(**mol_data)\n",
    "print(water)"
   ]
  }
 ],
 "metadata": {
  "kernelspec": {
   "display_name": "Python 3 (ipykernel)",
   "language": "python",
   "name": "python3"
  },
  "language_info": {
   "codemirror_mode": {
    "name": "ipython",
    "version": 3
   },
   "file_extension": ".py",
   "mimetype": "text/x-python",
   "name": "python",
   "nbconvert_exporter": "python",
   "pygments_lexer": "ipython3",
   "version": "3.10.6"
  }
 },
 "nbformat": 4,
 "nbformat_minor": 5
}
