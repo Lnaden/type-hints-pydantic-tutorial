{
 "cells": [
  {
   "cell_type": "markdown",
   "id": "42820110",
   "metadata": {},
   "source": [
    "(setup)=\n",
    "# Objectives and Setup"
   ]
  },
  {
   "cell_type": "markdown",
   "id": "sufficient-suite",
   "metadata": {},
   "source": [
    "Python is a powerful programing language for getting things done, however, its very permissive acceptance of datum types to arguments and from data structures makes correctly programming around- and validating those data nebulous. This workshop is about annotating Python code to include information about data types for developers, users, and Integrated development Environments (IDEs) as well as validation of said data. You'll learn about the built in Python type hints for non-enforceable annotation, wrapping data structures into programmable classes called a `dataclass`, manual validation of said data, and finally leveraging a powerful external library called [`pydantic`](https://pydantic-docs.helpmanual.io/) to automatically validate arbitrarily complex data structures through native type hints. \n",
    "\n",
    "In this workshop we will be using Jupyter notebooks, which you will be able to set up once you have installed Anaconda, however, this code is meant to be dynamically interacted with and run. So, feel free to follow along in your own editor or IDE.\n",
    "\n",
    "\n",
    "## Prerequisite Skills and Installs\n",
    "\n",
    "Before starting this workshop, you should be familiar with object oriented programming in Python. You can complete [MolSSI's Object Oriented Programming in Python](https://education.molssi.org/oop_and_design_patterns/) workshop to get hands-on experience with object oriented programming.\n",
    "\n",
    "You should also already have Python installed (or know how to), as well as install packages into Python. Ideally you should set up a separate conda environment or other environment (e.g. wheel). If you need a primer or refresher on this, please see the [Setup page for one of MolSSI's Python Programing Workshops](https://education.molssi.org/python-scripting-biochemistry/chapters/setup.html#)\n",
    "\n",
    "You will need the following packages installed to run the material. We provide a conda environment file in the Lesson Materials (see below), or you can install the packages yourself through `conda`/`mamba` or `pip`\n",
    "\n",
    "* `pydantic`\n",
    "* `numpy`\n",
    "* `jupyter` (if using a Jupyter Notebook. This lesson can be done fully with terminal and a text editor/IDE if you want.)\n",
    "\n",
    "\n",
    "## Obtain lesson materials\n",
    "1. Download the files needed for these lessons [here](https://github.com/Lnaden/type-hints-pydantic-tutorial/tree/main/data/lesson_materials.zip).\n",
    "2. Create a folder called `types-and-pydantic` on your Desktop.\n",
    "3. Move the downloaded materials to the new folder.\n",
    "4. Unzip the file. \n",
    "\n",
    "\n",
    "### Using the Lesson Materials: Code\n",
    "\n",
    "This is meant to be a dynamic, interactive workshop where you will be building, updating, and executing code in real time. Each chapter covers certain topics which are expanded and built upon in the next chapter. You will start with the `molecule.py` (which is a copy of the `00_base_molecule.py`) in {ref}`ch01`, and eventually construct the `01_typed_molecule.py` file from the Lesson Materials, which you can use as reference and to see the end-goal. {ref}`ch02` will pick up from `01_typed_molecule.py` as a base to eventually build `02_dataclass_molecule.py`, and so on. We encourage you to use the included `molecule.py` to follow along with the chapters of this workshop and build up so you can see where we started.\n",
    "\n",
    "Your files may look different depending on how you choose to approach the problems, and that's okay! The lesson material files are meant to serve as guides, not the sole correct answers. \n",
    "\n",
    "### Using the Lesson Materials: Dependency Environment\n",
    "\n",
    "The Lesson Materials also include a Conda Environment file which all the dependencies ready to go. The file is the `type_hints_pydantic_tut.yml` file. You can run the following command to set up a Conda environment named \"type-hint-pydantic\" into a new clean environment.\n",
    "\n",
    "If you have [`mamba` installed](https://github.com/mamba-org/mamba):\n",
    "\n",
    "```bash\n",
    "mamba env create -n type-hint-pydantic -f type_hints_pydantic_tut.yml\n",
    "```\n",
    "\n",
    "If you only have `conda` installed\n",
    "\n",
    "```bash\n",
    "conda env create -n type-hint-pydantic -f type_hints_pydantic_tut.yml\n",
    "```\n",
    "\n",
    "\n",
    "## Start a Jupyter notebook\n",
    "From Finder or Spotlight (Mac OS) or the Start Menu (Windows) find the Anaconda Navigator.  The icon looks like a green circle.  Click Launch under Jupyter Notebook (not JupyterLab).  It may take a few seconds to load the page, especially if it is the first time you have ever used the jupyter notebook, so don't panic if nothing loads for a few seconds.  Then a new window should open in your default internet browser. Use the file navigation window to navigate to `Desktop` and then to the `types-and-pydantic` folder.  In the upper right hand corner, click New, then choose Python 3 from the dropdown list (shown below)\n",
    "\n",
    "\n",
    "```{image} images/setup_figure_1.png\n",
    ":alt: set-up\n",
    ":align: center\n",
    "```\n",
    "\n",
    "This will start a new Jupyter notebook using Python 3. You're ready to go!\n",
    "\n"
   ]
  }
 ],
 "metadata": {
  "kernelspec": {
   "display_name": "Python 3 (ipykernel)",
   "language": "python",
   "name": "python3"
  },
  "language_info": {
   "codemirror_mode": {
    "name": "ipython",
    "version": 3
   },
   "file_extension": ".py",
   "mimetype": "text/x-python",
   "name": "python",
   "nbconvert_exporter": "python",
   "pygments_lexer": "ipython3",
   "version": "3.10.6"
  }
 },
 "nbformat": 4,
 "nbformat_minor": 5
}
